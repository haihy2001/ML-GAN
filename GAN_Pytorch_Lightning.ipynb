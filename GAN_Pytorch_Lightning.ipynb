{
  "nbformat": 4,
  "nbformat_minor": 0,
  "metadata": {
    "kernelspec": {
      "language": "python",
      "display_name": "Python 3",
      "name": "python3"
    },
    "language_info": {
      "name": "python",
      "version": "3.7.10",
      "mimetype": "text/x-python",
      "codemirror_mode": {
        "name": "ipython",
        "version": 3
      },
      "pygments_lexer": "ipython3",
      "nbconvert_exporter": "python",
      "file_extension": ".py"
    },
    "colab": {
      "name": "gan-pytorch-lightning.ipynb",
      "provenance": [],
      "collapsed_sections": []
    },
    "widgets": {
      "application/vnd.jupyter.widget-state+json": {
        "17e330eaabc44c9abad87ef64f30986d": {
          "model_module": "@jupyter-widgets/controls",
          "model_name": "HBoxModel",
          "model_module_version": "1.5.0",
          "state": {
            "_view_name": "HBoxView",
            "_dom_classes": [],
            "_model_name": "HBoxModel",
            "_view_module": "@jupyter-widgets/controls",
            "_model_module_version": "1.5.0",
            "_view_count": null,
            "_view_module_version": "1.5.0",
            "box_style": "",
            "layout": "IPY_MODEL_692f88780a6044009e46cbd72e670489",
            "_model_module": "@jupyter-widgets/controls",
            "children": [
              "IPY_MODEL_3ee0b6c943d3400e91f62a7ff71f2cde",
              "IPY_MODEL_3f115b8046084e54a55ac271106695a9",
              "IPY_MODEL_6dc845c43c2c4e0c95eb2afeb9d20931"
            ]
          }
        },
        "692f88780a6044009e46cbd72e670489": {
          "model_module": "@jupyter-widgets/base",
          "model_name": "LayoutModel",
          "model_module_version": "1.2.0",
          "state": {
            "_view_name": "LayoutView",
            "grid_template_rows": null,
            "right": null,
            "justify_content": null,
            "_view_module": "@jupyter-widgets/base",
            "overflow": null,
            "_model_module_version": "1.2.0",
            "_view_count": null,
            "flex_flow": "row wrap",
            "width": "100%",
            "min_width": null,
            "border": null,
            "align_items": null,
            "bottom": null,
            "_model_module": "@jupyter-widgets/base",
            "top": null,
            "grid_column": null,
            "overflow_y": null,
            "overflow_x": null,
            "grid_auto_flow": null,
            "grid_area": null,
            "grid_template_columns": null,
            "flex": null,
            "_model_name": "LayoutModel",
            "justify_items": null,
            "grid_row": null,
            "max_height": null,
            "align_content": null,
            "visibility": null,
            "align_self": null,
            "height": null,
            "min_height": null,
            "padding": null,
            "grid_auto_rows": null,
            "grid_gap": null,
            "max_width": null,
            "order": null,
            "_view_module_version": "1.2.0",
            "grid_template_areas": null,
            "object_position": null,
            "object_fit": null,
            "grid_auto_columns": null,
            "margin": null,
            "display": "inline-flex",
            "left": null
          }
        },
        "3ee0b6c943d3400e91f62a7ff71f2cde": {
          "model_module": "@jupyter-widgets/controls",
          "model_name": "HTMLModel",
          "model_module_version": "1.5.0",
          "state": {
            "_view_name": "HTMLView",
            "style": "IPY_MODEL_640d8793b8c04eeda20a983ae235b17f",
            "_dom_classes": [],
            "description": "",
            "_model_name": "HTMLModel",
            "placeholder": "​",
            "_view_module": "@jupyter-widgets/controls",
            "_model_module_version": "1.5.0",
            "value": "Epoch 99: 100%",
            "_view_count": null,
            "_view_module_version": "1.5.0",
            "description_tooltip": null,
            "_model_module": "@jupyter-widgets/controls",
            "layout": "IPY_MODEL_e40044134f2f47b8a46ea0acac87f1a1"
          }
        },
        "3f115b8046084e54a55ac271106695a9": {
          "model_module": "@jupyter-widgets/controls",
          "model_name": "FloatProgressModel",
          "model_module_version": "1.5.0",
          "state": {
            "_view_name": "ProgressView",
            "style": "IPY_MODEL_7a8f1c404cb443bbb4f2774d4463c514",
            "_dom_classes": [],
            "description": "",
            "_model_name": "FloatProgressModel",
            "bar_style": "success",
            "max": 1875,
            "_view_module": "@jupyter-widgets/controls",
            "_model_module_version": "1.5.0",
            "value": 1875,
            "_view_count": null,
            "_view_module_version": "1.5.0",
            "orientation": "horizontal",
            "min": 0,
            "description_tooltip": null,
            "_model_module": "@jupyter-widgets/controls",
            "layout": "IPY_MODEL_86b39ddcb1fc47ddbd9d9360344745ae"
          }
        },
        "6dc845c43c2c4e0c95eb2afeb9d20931": {
          "model_module": "@jupyter-widgets/controls",
          "model_name": "HTMLModel",
          "model_module_version": "1.5.0",
          "state": {
            "_view_name": "HTMLView",
            "style": "IPY_MODEL_4a3e3b8bde964362a225fc7c3f600cd5",
            "_dom_classes": [],
            "description": "",
            "_model_name": "HTMLModel",
            "placeholder": "​",
            "_view_module": "@jupyter-widgets/controls",
            "_model_module_version": "1.5.0",
            "value": " 1875/1875 [00:32&lt;00:00, 57.67it/s, loss=1.2, v_num=5]",
            "_view_count": null,
            "_view_module_version": "1.5.0",
            "description_tooltip": null,
            "_model_module": "@jupyter-widgets/controls",
            "layout": "IPY_MODEL_50f53c7358bf425ca12891a505059af1"
          }
        },
        "640d8793b8c04eeda20a983ae235b17f": {
          "model_module": "@jupyter-widgets/controls",
          "model_name": "DescriptionStyleModel",
          "model_module_version": "1.5.0",
          "state": {
            "_view_name": "StyleView",
            "_model_name": "DescriptionStyleModel",
            "description_width": "",
            "_view_module": "@jupyter-widgets/base",
            "_model_module_version": "1.5.0",
            "_view_count": null,
            "_view_module_version": "1.2.0",
            "_model_module": "@jupyter-widgets/controls"
          }
        },
        "e40044134f2f47b8a46ea0acac87f1a1": {
          "model_module": "@jupyter-widgets/base",
          "model_name": "LayoutModel",
          "model_module_version": "1.2.0",
          "state": {
            "_view_name": "LayoutView",
            "grid_template_rows": null,
            "right": null,
            "justify_content": null,
            "_view_module": "@jupyter-widgets/base",
            "overflow": null,
            "_model_module_version": "1.2.0",
            "_view_count": null,
            "flex_flow": null,
            "width": null,
            "min_width": null,
            "border": null,
            "align_items": null,
            "bottom": null,
            "_model_module": "@jupyter-widgets/base",
            "top": null,
            "grid_column": null,
            "overflow_y": null,
            "overflow_x": null,
            "grid_auto_flow": null,
            "grid_area": null,
            "grid_template_columns": null,
            "flex": null,
            "_model_name": "LayoutModel",
            "justify_items": null,
            "grid_row": null,
            "max_height": null,
            "align_content": null,
            "visibility": null,
            "align_self": null,
            "height": null,
            "min_height": null,
            "padding": null,
            "grid_auto_rows": null,
            "grid_gap": null,
            "max_width": null,
            "order": null,
            "_view_module_version": "1.2.0",
            "grid_template_areas": null,
            "object_position": null,
            "object_fit": null,
            "grid_auto_columns": null,
            "margin": null,
            "display": null,
            "left": null
          }
        },
        "7a8f1c404cb443bbb4f2774d4463c514": {
          "model_module": "@jupyter-widgets/controls",
          "model_name": "ProgressStyleModel",
          "model_module_version": "1.5.0",
          "state": {
            "_view_name": "StyleView",
            "_model_name": "ProgressStyleModel",
            "description_width": "",
            "_view_module": "@jupyter-widgets/base",
            "_model_module_version": "1.5.0",
            "_view_count": null,
            "_view_module_version": "1.2.0",
            "bar_color": null,
            "_model_module": "@jupyter-widgets/controls"
          }
        },
        "86b39ddcb1fc47ddbd9d9360344745ae": {
          "model_module": "@jupyter-widgets/base",
          "model_name": "LayoutModel",
          "model_module_version": "1.2.0",
          "state": {
            "_view_name": "LayoutView",
            "grid_template_rows": null,
            "right": null,
            "justify_content": null,
            "_view_module": "@jupyter-widgets/base",
            "overflow": null,
            "_model_module_version": "1.2.0",
            "_view_count": null,
            "flex_flow": null,
            "width": null,
            "min_width": null,
            "border": null,
            "align_items": null,
            "bottom": null,
            "_model_module": "@jupyter-widgets/base",
            "top": null,
            "grid_column": null,
            "overflow_y": null,
            "overflow_x": null,
            "grid_auto_flow": null,
            "grid_area": null,
            "grid_template_columns": null,
            "flex": "2",
            "_model_name": "LayoutModel",
            "justify_items": null,
            "grid_row": null,
            "max_height": null,
            "align_content": null,
            "visibility": null,
            "align_self": null,
            "height": null,
            "min_height": null,
            "padding": null,
            "grid_auto_rows": null,
            "grid_gap": null,
            "max_width": null,
            "order": null,
            "_view_module_version": "1.2.0",
            "grid_template_areas": null,
            "object_position": null,
            "object_fit": null,
            "grid_auto_columns": null,
            "margin": null,
            "display": null,
            "left": null
          }
        },
        "4a3e3b8bde964362a225fc7c3f600cd5": {
          "model_module": "@jupyter-widgets/controls",
          "model_name": "DescriptionStyleModel",
          "model_module_version": "1.5.0",
          "state": {
            "_view_name": "StyleView",
            "_model_name": "DescriptionStyleModel",
            "description_width": "",
            "_view_module": "@jupyter-widgets/base",
            "_model_module_version": "1.5.0",
            "_view_count": null,
            "_view_module_version": "1.2.0",
            "_model_module": "@jupyter-widgets/controls"
          }
        },
        "50f53c7358bf425ca12891a505059af1": {
          "model_module": "@jupyter-widgets/base",
          "model_name": "LayoutModel",
          "model_module_version": "1.2.0",
          "state": {
            "_view_name": "LayoutView",
            "grid_template_rows": null,
            "right": null,
            "justify_content": null,
            "_view_module": "@jupyter-widgets/base",
            "overflow": null,
            "_model_module_version": "1.2.0",
            "_view_count": null,
            "flex_flow": null,
            "width": null,
            "min_width": null,
            "border": null,
            "align_items": null,
            "bottom": null,
            "_model_module": "@jupyter-widgets/base",
            "top": null,
            "grid_column": null,
            "overflow_y": null,
            "overflow_x": null,
            "grid_auto_flow": null,
            "grid_area": null,
            "grid_template_columns": null,
            "flex": null,
            "_model_name": "LayoutModel",
            "justify_items": null,
            "grid_row": null,
            "max_height": null,
            "align_content": null,
            "visibility": null,
            "align_self": null,
            "height": null,
            "min_height": null,
            "padding": null,
            "grid_auto_rows": null,
            "grid_gap": null,
            "max_width": null,
            "order": null,
            "_view_module_version": "1.2.0",
            "grid_template_areas": null,
            "object_position": null,
            "object_fit": null,
            "grid_auto_columns": null,
            "margin": null,
            "display": null,
            "left": null
          }
        }
      }
    }
  },
  "cells": [
    {
      "cell_type": "code",
      "metadata": {
        "_kg_hide-output": true,
        "_kg_hide-input": true,
        "execution": {
          "iopub.status.busy": "2021-11-27T18:25:49.254841Z",
          "iopub.execute_input": "2021-11-27T18:25:49.255473Z",
          "iopub.status.idle": "2021-11-27T18:25:51.09317Z",
          "shell.execute_reply.started": "2021-11-27T18:25:49.255436Z",
          "shell.execute_reply": "2021-11-27T18:25:51.092351Z"
        },
        "trusted": true,
        "id": "BmjxbLSitMrg"
      },
      "source": [
        "!pip install -q pytorch-lightning"
      ],
      "execution_count": 1,
      "outputs": []
    },
    {
      "cell_type": "code",
      "metadata": {
        "execution": {
          "iopub.status.busy": "2021-11-27T18:34:36.829939Z",
          "iopub.execute_input": "2021-11-27T18:34:36.830436Z",
          "iopub.status.idle": "2021-11-27T18:34:40.110378Z",
          "shell.execute_reply.started": "2021-11-27T18:34:36.830349Z",
          "shell.execute_reply": "2021-11-27T18:34:40.109605Z"
        },
        "trusted": true,
        "id": "YJUk26G5tMri"
      },
      "source": [
        "from os import makedirs\n",
        "import torch\n",
        "import torch.nn as nn\n",
        "import pytorch_lightning as pl\n",
        "import torch.nn.functional as F\n",
        "from torchvision import datasets, transforms, utils\n",
        "\n",
        "path = 'output'\n",
        "makedirs(path, exist_ok=True)\n",
        "\n",
        "img_shape = (1, 28, 28)\n",
        "\n",
        "losses = []"
      ],
      "execution_count": 2,
      "outputs": []
    },
    {
      "cell_type": "code",
      "metadata": {
        "execution": {
          "iopub.status.busy": "2021-11-27T18:34:40.112107Z",
          "iopub.execute_input": "2021-11-27T18:34:40.112525Z",
          "iopub.status.idle": "2021-11-27T18:34:40.127309Z",
          "shell.execute_reply.started": "2021-11-27T18:34:40.112460Z",
          "shell.execute_reply": "2021-11-27T18:34:40.125723Z"
        },
        "trusted": true,
        "id": "Y_FV0NGQtMrk"
      },
      "source": [
        "class Generator(nn.Module):\n",
        "    def __init__(self):\n",
        "        super().__init__()\n",
        "        self.fc1 = nn.Linear(100, 32)\n",
        "        self.fc2 = nn.Linear(32, 64)\n",
        "        self.fc3 = nn.Linear(64, 128)\n",
        "        self.fc4 = nn.Linear(128, 28*28)\n",
        "        self.dropout = nn.Dropout(0.3)\n",
        "\n",
        "    def forward(self, x):\n",
        "        x = F.leaky_relu(self.fc1(x), 0.2)\n",
        "        x = self.dropout(x)\n",
        "        x = F.leaky_relu(self.fc2(x), 0.2)\n",
        "        x = self.dropout(x)\n",
        "        x = F.leaky_relu(self.fc3(x), 0.2)\n",
        "        x = self.dropout(x)\n",
        "        out = torch.tanh(self.fc4(x))\n",
        "        return out\n",
        "\n",
        "class Discriminator(nn.Module):\n",
        "    def __init__(self):\n",
        "        super().__init__()\n",
        "        self.fc1 = nn.Linear(28*28, 128)\n",
        "        self.fc2 = nn.Linear(128, 64)\n",
        "        self.fc3 = nn.Linear(64, 32)\n",
        "        self.fc4 = nn.Linear(32, 1)\n",
        "        self.dropout = nn.Dropout(0.3)\n",
        "\n",
        "    def forward(self, x):\n",
        "        x = x.view(x.size(0), -1)\n",
        "        x = F.leaky_relu(self.fc1(x), 0.2)\n",
        "        x = self.dropout(x)\n",
        "        x = F.leaky_relu(self.fc2(x), 0.2)\n",
        "        x = self.dropout(x)\n",
        "        x = F.leaky_relu(self.fc3(x), 0.2)\n",
        "        x = self.dropout(x)\n",
        "        out = torch.sigmoid(self.fc4(x))\n",
        "        return out"
      ],
      "execution_count": 3,
      "outputs": []
    },
    {
      "cell_type": "code",
      "metadata": {
        "_uuid": "579d9722-a71a-4ab3-8564-ff0e270f81a2",
        "_cell_guid": "a7531299-5605-4f0e-aab9-40b10a0f4d6b",
        "execution": {
          "iopub.status.busy": "2021-11-27T18:41:46.538927Z",
          "iopub.execute_input": "2021-11-27T18:41:46.539358Z",
          "iopub.status.idle": "2021-11-27T18:41:46.558298Z",
          "shell.execute_reply.started": "2021-11-27T18:41:46.539309Z",
          "shell.execute_reply": "2021-11-27T18:41:46.557306Z"
        },
        "trusted": true,
        "id": "9CUwzXIVtMrl"
      },
      "source": [
        "class GAN(pl.LightningModule):\n",
        "    def __init__(self):\n",
        "        super().__init__()\n",
        "        self.G = Generator()\n",
        "        self.D = Discriminator()\n",
        "    \n",
        "    def forward(self, x):\n",
        "        return self.D(x)\n",
        "    \n",
        "    def loss_function(self, y_hat, y):\n",
        "        return nn.BCELoss()(y_hat, y)\n",
        "    \n",
        "    def configure_optimizers(self):\n",
        "        optimizer_G = torch.optim.Adam(self.G.parameters(), lr=0.002)\n",
        "        optimizer_D = torch.optim.Adam(self.D.parameters(), lr=0.002)\n",
        "        \n",
        "        return [optimizer_G, optimizer_D], []\n",
        "\n",
        "    def prepare_data(self):\n",
        "        transform = transforms.Compose([transforms.ToTensor(),\n",
        "                                        transforms.Normalize([0.5], [0.5])])\n",
        "        \n",
        "        train_data = datasets.MNIST('data/', train=True, download=True, transform=transform)\n",
        "        return train_data\n",
        "\n",
        "    def train_dataloader(self):\n",
        "        train_loader = torch.utils.data.DataLoader(self.prepare_data(), batch_size=32, shuffle=True)\n",
        "        return train_loader\n",
        "    \n",
        "    def training_step(self, batch, batch_idx, optimizer_idx):\n",
        "        real_images, _ = batch\n",
        "        \n",
        "        real = torch.ones(real_images.size(0), 1)\n",
        "        fake = torch.zeros(real_images.size(0), 1)\n",
        "\n",
        "        criterion = self.loss_function\n",
        "        \n",
        "        ## Generator\n",
        "        if optimizer_idx == 0:\n",
        "            gen_input = torch.randn(real_images.shape[0], 100)\n",
        "            self.gen_images = self.G(gen_input)\n",
        "            self.g_loss = criterion(self(self.gen_images), real)\n",
        "            return self.g_loss\n",
        "\n",
        "        ## Discriminator\n",
        "        if optimizer_idx == 1:\n",
        "            real_loss = criterion(self(real_images), real)\n",
        "            fake_loss = criterion(self(self.gen_images.detach()), fake)\n",
        "            self.d_loss = real_loss + fake_loss            \n",
        "            return self.d_loss\n",
        "    \n",
        "    def on_epoch_end(self):\n",
        "        losses.append((self.d_loss.item(), self.g_loss.item()))\n",
        "        # Saving 5x5 grid\n",
        "        utils.save_image(self.gen_images.view(self.gen_images.shape[0], *img_shape).data[:25]\n",
        "                                     , path+'/%d.png' % self.current_epoch, nrow=5, padding=0, normalize=True)"
      ],
      "execution_count": 4,
      "outputs": []
    },
    {
      "cell_type": "code",
      "metadata": {
        "execution": {
          "iopub.status.busy": "2021-11-27T18:41:47.323041Z",
          "iopub.execute_input": "2021-11-27T18:41:47.323329Z"
        },
        "trusted": true,
        "colab": {
          "base_uri": "https://localhost:8080/",
          "height": 275,
          "referenced_widgets": [
            "17e330eaabc44c9abad87ef64f30986d",
            "692f88780a6044009e46cbd72e670489",
            "3ee0b6c943d3400e91f62a7ff71f2cde",
            "3f115b8046084e54a55ac271106695a9",
            "6dc845c43c2c4e0c95eb2afeb9d20931",
            "640d8793b8c04eeda20a983ae235b17f",
            "e40044134f2f47b8a46ea0acac87f1a1",
            "7a8f1c404cb443bbb4f2774d4463c514",
            "86b39ddcb1fc47ddbd9d9360344745ae",
            "4a3e3b8bde964362a225fc7c3f600cd5",
            "50f53c7358bf425ca12891a505059af1"
          ]
        },
        "id": "-c1tn1YwtMrm",
        "outputId": "cdb8e580-91eb-4f96-c96f-172d2e7ed376"
      },
      "source": [
        "def main():\n",
        "    gan = GAN()\n",
        "    trainer = pl.Trainer(max_epochs=100)\n",
        "    trainer.fit(gan)\n",
        "    \n",
        "gan = main()"
      ],
      "execution_count": 7,
      "outputs": [
        {
          "metadata": {
            "tags": null
          },
          "name": "stderr",
          "output_type": "stream",
          "text": [
            "GPU available: False, used: False\n",
            "TPU available: False, using: 0 TPU cores\n",
            "IPU available: False, using: 0 IPUs\n",
            "\n",
            "  | Name | Type          | Params\n",
            "---------------------------------------\n",
            "0 | G    | Generator     | 114 K \n",
            "1 | D    | Discriminator | 110 K \n",
            "---------------------------------------\n",
            "225 K     Trainable params\n",
            "0         Non-trainable params\n",
            "225 K     Total params\n",
            "0.903     Total estimated model params size (MB)\n"
          ]
        },
        {
          "data": {
            "application/vnd.jupyter.widget-view+json": {
              "model_id": "17e330eaabc44c9abad87ef64f30986d",
              "version_major": 2,
              "version_minor": 0
            },
            "text/plain": [
              "Training: 0it [00:00, ?it/s]"
            ]
          },
          "metadata": {},
          "output_type": "display_data"
        }
      ]
    },
    {
      "cell_type": "code",
      "metadata": {
        "trusted": true,
        "colab": {
          "base_uri": "https://localhost:8080/",
          "height": 298
        },
        "id": "WQeKzrFWtMrn",
        "outputId": "b34ac7d7-2581-474c-f9bb-981cce487128"
      },
      "source": [
        "import numpy as np\n",
        "import matplotlib.pyplot as plt\n",
        "\n",
        "fig, ax = plt.subplots()\n",
        "losses = np.array(losses)\n",
        "plt.plot(losses.T[0], label='Discriminator')\n",
        "plt.plot(losses.T[1], label='Generator')\n",
        "plt.title(\"Training Losses\")\n",
        "plt.legend()"
      ],
      "execution_count": 8,
      "outputs": [
        {
          "output_type": "execute_result",
          "data": {
            "text/plain": [
              "<matplotlib.legend.Legend at 0x7fe651b8b510>"
            ]
          },
          "metadata": {},
          "execution_count": 8
        },
        {
          "output_type": "display_data",
          "data": {
            "image/png": "[encoded data removed]",
            "text/plain": [
              "<Figure size 432x288 with 1 Axes>"
            ]
          },
          "metadata": {
            "needs_background": "light"
          }
        }
      ]
    }
  ]
}
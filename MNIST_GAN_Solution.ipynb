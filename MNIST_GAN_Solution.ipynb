{
  "nbformat": 4,
  "nbformat_minor": 0,
  "metadata": {
    "kernelspec": {
      "display_name": "Python 3",
      "language": "python",
      "name": "python3"
    },
    "language_info": {
      "codemirror_mode": {
        "name": "ipython",
        "version": 3
      },
      "file_extension": ".py",
      "mimetype": "text/x-python",
      "name": "python",
      "nbconvert_exporter": "python",
      "pygments_lexer": "ipython3",
      "version": "3.7.3"
    },
    "colab": {
      "name": "MNIST_GAN_Solution.ipynb",
      "provenance": [],
      "collapsed_sections": []
    },
    "accelerator": "GPU",
    "widgets": {
      "application/vnd.jupyter.widget-state+json": {
        "aa1a3a4b06ee4838b1bbac00f79faba2": {
          "model_module": "@jupyter-widgets/controls",
          "model_name": "HBoxModel",
          "model_module_version": "1.5.0",
          "state": {
            "_view_name": "HBoxView",
            "_dom_classes": [],
            "_model_name": "HBoxModel",
            "_view_module": "@jupyter-widgets/controls",
            "_model_module_version": "1.5.0",
            "_view_count": null,
            "_view_module_version": "1.5.0",
            "box_style": "",
            "layout": "IPY_MODEL_faeaa4d44a0c49198c38b389389cba38",
            "_model_module": "@jupyter-widgets/controls",
            "children": [
              "IPY_MODEL_1ac0ce0ad8c74d69afdd1feac9353af4",
              "IPY_MODEL_c5fbb276196d4aef984bb9ac28e42f24",
              "IPY_MODEL_20c741053e7f4a2eb64496e0d26fa1b9"
            ]
          }
        },
        "faeaa4d44a0c49198c38b389389cba38": {
          "model_module": "@jupyter-widgets/base",
          "model_name": "LayoutModel",
          "model_module_version": "1.2.0",
          "state": {
            "_view_name": "LayoutView",
            "grid_template_rows": null,
            "right": null,
            "justify_content": null,
            "_view_module": "@jupyter-widgets/base",
            "overflow": null,
            "_model_module_version": "1.2.0",
            "_view_count": null,
            "flex_flow": null,
            "width": null,
            "min_width": null,
            "border": null,
            "align_items": null,
            "bottom": null,
            "_model_module": "@jupyter-widgets/base",
            "top": null,
            "grid_column": null,
            "overflow_y": null,
            "overflow_x": null,
            "grid_auto_flow": null,
            "grid_area": null,
            "grid_template_columns": null,
            "flex": null,
            "_model_name": "LayoutModel",
            "justify_items": null,
            "grid_row": null,
            "max_height": null,
            "align_content": null,
            "visibility": null,
            "align_self": null,
            "height": null,
            "min_height": null,
            "padding": null,
            "grid_auto_rows": null,
            "grid_gap": null,
            "max_width": null,
            "order": null,
            "_view_module_version": "1.2.0",
            "grid_template_areas": null,
            "object_position": null,
            "object_fit": null,
            "grid_auto_columns": null,
            "margin": null,
            "display": null,
            "left": null
          }
        },
        "1ac0ce0ad8c74d69afdd1feac9353af4": {
          "model_module": "@jupyter-widgets/controls",
          "model_name": "HTMLModel",
          "model_module_version": "1.5.0",
          "state": {
            "_view_name": "HTMLView",
            "style": "IPY_MODEL_fc077ccb86244be58ee124ac87685e0d",
            "_dom_classes": [],
            "description": "",
            "_model_name": "HTMLModel",
            "placeholder": "​",
            "_view_module": "@jupyter-widgets/controls",
            "_model_module_version": "1.5.0",
            "value": "",
            "_view_count": null,
            "_view_module_version": "1.5.0",
            "description_tooltip": null,
            "_model_module": "@jupyter-widgets/controls",
            "layout": "IPY_MODEL_e5b53f330b3e499ab3aa7a92c57be5a2"
          }
        },
        "c5fbb276196d4aef984bb9ac28e42f24": {
          "model_module": "@jupyter-widgets/controls",
          "model_name": "FloatProgressModel",
          "model_module_version": "1.5.0",
          "state": {
            "_view_name": "ProgressView",
            "style": "IPY_MODEL_e0d31cbeb6eb4c1b834266f8abb2e9a4",
            "_dom_classes": [],
            "description": "",
            "_model_name": "FloatProgressModel",
            "bar_style": "success",
            "max": 9912422,
            "_view_module": "@jupyter-widgets/controls",
            "_model_module_version": "1.5.0",
            "value": 9912422,
            "_view_count": null,
            "_view_module_version": "1.5.0",
            "orientation": "horizontal",
            "min": 0,
            "description_tooltip": null,
            "_model_module": "@jupyter-widgets/controls",
            "layout": "IPY_MODEL_40d363effd8c40a9939be9873277bd0a"
          }
        },
        "20c741053e7f4a2eb64496e0d26fa1b9": {
          "model_module": "@jupyter-widgets/controls",
          "model_name": "HTMLModel",
          "model_module_version": "1.5.0",
          "state": {
            "_view_name": "HTMLView",
            "style": "IPY_MODEL_e5a07566d60e4bbabe725553698b985d",
            "_dom_classes": [],
            "description": "",
            "_model_name": "HTMLModel",
            "placeholder": "​",
            "_view_module": "@jupyter-widgets/controls",
            "_model_module_version": "1.5.0",
            "value": " 9913344/? [00:00&lt;00:00, 17580540.23it/s]",
            "_view_count": null,
            "_view_module_version": "1.5.0",
            "description_tooltip": null,
            "_model_module": "@jupyter-widgets/controls",
            "layout": "IPY_MODEL_c7d83ed2da6d4a328146e12c63535c7d"
          }
        },
        "fc077ccb86244be58ee124ac87685e0d": {
          "model_module": "@jupyter-widgets/controls",
          "model_name": "DescriptionStyleModel",
          "model_module_version": "1.5.0",
          "state": {
            "_view_name": "StyleView",
            "_model_name": "DescriptionStyleModel",
            "description_width": "",
            "_view_module": "@jupyter-widgets/base",
            "_model_module_version": "1.5.0",
            "_view_count": null,
            "_view_module_version": "1.2.0",
            "_model_module": "@jupyter-widgets/controls"
          }
        },
        "e5b53f330b3e499ab3aa7a92c57be5a2": {
          "model_module": "@jupyter-widgets/base",
          "model_name": "LayoutModel",
          "model_module_version": "1.2.0",
          "state": {
            "_view_name": "LayoutView",
            "grid_template_rows": null,
            "right": null,
            "justify_content": null,
            "_view_module": "@jupyter-widgets/base",
            "overflow": null,
            "_model_module_version": "1.2.0",
            "_view_count": null,
            "flex_flow": null,
            "width": null,
            "min_width": null,
            "border": null,
            "align_items": null,
            "bottom": null,
            "_model_module": "@jupyter-widgets/base",
            "top": null,
            "grid_column": null,
            "overflow_y": null,
            "overflow_x": null,
            "grid_auto_flow": null,
            "grid_area": null,
            "grid_template_columns": null,
            "flex": null,
            "_model_name": "LayoutModel",
            "justify_items": null,
            "grid_row": null,
            "max_height": null,
            "align_content": null,
            "visibility": null,
            "align_self": null,
            "height": null,
            "min_height": null,
            "padding": null,
            "grid_auto_rows": null,
            "grid_gap": null,
            "max_width": null,
            "order": null,
            "_view_module_version": "1.2.0",
            "grid_template_areas": null,
            "object_position": null,
            "object_fit": null,
            "grid_auto_columns": null,
            "margin": null,
            "display": null,
            "left": null
          }
        },
        "e0d31cbeb6eb4c1b834266f8abb2e9a4": {
          "model_module": "@jupyter-widgets/controls",
          "model_name": "ProgressStyleModel",
          "model_module_version": "1.5.0",
          "state": {
            "_view_name": "StyleView",
            "_model_name": "ProgressStyleModel",
            "description_width": "",
            "_view_module": "@jupyter-widgets/base",
            "_model_module_version": "1.5.0",
            "_view_count": null,
            "_view_module_version": "1.2.0",
            "bar_color": null,
            "_model_module": "@jupyter-widgets/controls"
          }
        },
        "40d363effd8c40a9939be9873277bd0a": {
          "model_module": "@jupyter-widgets/base",
          "model_name": "LayoutModel",
          "model_module_version": "1.2.0",
          "state": {
            "_view_name": "LayoutView",
            "grid_template_rows": null,
            "right": null,
            "justify_content": null,
            "_view_module": "@jupyter-widgets/base",
            "overflow": null,
            "_model_module_version": "1.2.0",
            "_view_count": null,
            "flex_flow": null,
            "width": null,
            "min_width": null,
            "border": null,
            "align_items": null,
            "bottom": null,
            "_model_module": "@jupyter-widgets/base",
            "top": null,
            "grid_column": null,
            "overflow_y": null,
            "overflow_x": null,
            "grid_auto_flow": null,
            "grid_area": null,
            "grid_template_columns": null,
            "flex": null,
            "_model_name": "LayoutModel",
            "justify_items": null,
            "grid_row": null,
            "max_height": null,
            "align_content": null,
            "visibility": null,
            "align_self": null,
            "height": null,
            "min_height": null,
            "padding": null,
            "grid_auto_rows": null,
            "grid_gap": null,
            "max_width": null,
            "order": null,
            "_view_module_version": "1.2.0",
            "grid_template_areas": null,
            "object_position": null,
            "object_fit": null,
            "grid_auto_columns": null,
            "margin": null,
            "display": null,
            "left": null
          }
        },
        "e5a07566d60e4bbabe725553698b985d": {
          "model_module": "@jupyter-widgets/controls",
          "model_name": "DescriptionStyleModel",
          "model_module_version": "1.5.0",
          "state": {
            "_view_name": "StyleView",
            "_model_name": "DescriptionStyleModel",
            "description_width": "",
            "_view_module": "@jupyter-widgets/base",
            "_model_module_version": "1.5.0",
            "_view_count": null,
            "_view_module_version": "1.2.0",
            "_model_module": "@jupyter-widgets/controls"
          }
        },
        "c7d83ed2da6d4a328146e12c63535c7d": {
          "model_module": "@jupyter-widgets/base",
          "model_name": "LayoutModel",
          "model_module_version": "1.2.0",
          "state": {
            "_view_name": "LayoutView",
            "grid_template_rows": null,
            "right": null,
            "justify_content": null,
            "_view_module": "@jupyter-widgets/base",
            "overflow": null,
            "_model_module_version": "1.2.0",
            "_view_count": null,
            "flex_flow": null,
            "width": null,
            "min_width": null,
            "border": null,
            "align_items": null,
            "bottom": null,
            "_model_module": "@jupyter-widgets/base",
            "top": null,
            "grid_column": null,
            "overflow_y": null,
            "overflow_x": null,
            "grid_auto_flow": null,
            "grid_area": null,
            "grid_template_columns": null,
            "flex": null,
            "_model_name": "LayoutModel",
            "justify_items": null,
            "grid_row": null,
            "max_height": null,
            "align_content": null,
            "visibility": null,
            "align_self": null,
            "height": null,
            "min_height": null,
            "padding": null,
            "grid_auto_rows": null,
            "grid_gap": null,
            "max_width": null,
            "order": null,
            "_view_module_version": "1.2.0",
            "grid_template_areas": null,
            "object_position": null,
            "object_fit": null,
            "grid_auto_columns": null,
            "margin": null,
            "display": null,
            "left": null
          }
        },
        "610a557bdda0467684b2ec58b24255fe": {
          "model_module": "@jupyter-widgets/controls",
          "model_name": "HBoxModel",
          "model_module_version": "1.5.0",
          "state": {
            "_view_name": "HBoxView",
            "_dom_classes": [],
            "_model_name": "HBoxModel",
            "_view_module": "@jupyter-widgets/controls",
            "_model_module_version": "1.5.0",
            "_view_count": null,
            "_view_module_version": "1.5.0",
            "box_style": "",
            "layout": "IPY_MODEL_0fcc174673a245a092b42d918b3ed049",
            "_model_module": "@jupyter-widgets/controls",
            "children": [
              "IPY_MODEL_d15066e9a1494b4db27ceb095db21229",
              "IPY_MODEL_72f5783810ca492ca339d48c1f3f766b",
              "IPY_MODEL_1019e4a3d39d41259f74f3951b570fcf"
            ]
          }
        },
        "0fcc174673a245a092b42d918b3ed049": {
          "model_module": "@jupyter-widgets/base",
          "model_name": "LayoutModel",
          "model_module_version": "1.2.0",
          "state": {
            "_view_name": "LayoutView",
            "grid_template_rows": null,
            "right": null,
            "justify_content": null,
            "_view_module": "@jupyter-widgets/base",
            "overflow": null,
            "_model_module_version": "1.2.0",
            "_view_count": null,
            "flex_flow": null,
            "width": null,
            "min_width": null,
            "border": null,
            "align_items": null,
            "bottom": null,
            "_model_module": "@jupyter-widgets/base",
            "top": null,
            "grid_column": null,
            "overflow_y": null,
            "overflow_x": null,
            "grid_auto_flow": null,
            "grid_area": null,
            "grid_template_columns": null,
            "flex": null,
            "_model_name": "LayoutModel",
            "justify_items": null,
            "grid_row": null,
            "max_height": null,
            "align_content": null,
            "visibility": null,
            "align_self": null,
            "height": null,
            "min_height": null,
            "padding": null,
            "grid_auto_rows": null,
            "grid_gap": null,
            "max_width": null,
            "order": null,
            "_view_module_version": "1.2.0",
            "grid_template_areas": null,
            "object_position": null,
            "object_fit": null,
            "grid_auto_columns": null,
            "margin": null,
            "display": null,
            "left": null
          }
        },
        "d15066e9a1494b4db27ceb095db21229": {
          "model_module": "@jupyter-widgets/controls",
          "model_name": "HTMLModel",
          "model_module_version": "1.5.0",
          "state": {
            "_view_name": "HTMLView",
            "style": "IPY_MODEL_33827d4e35094439a55c6dd4a79de0a2",
            "_dom_classes": [],
            "description": "",
            "_model_name": "HTMLModel",
            "placeholder": "​",
            "_view_module": "@jupyter-widgets/controls",
            "_model_module_version": "1.5.0",
            "value": "",
            "_view_count": null,
            "_view_module_version": "1.5.0",
            "description_tooltip": null,
            "_model_module": "@jupyter-widgets/controls",
            "layout": "IPY_MODEL_0aac02147b304c658a629826217c3cff"
          }
        },
        "72f5783810ca492ca339d48c1f3f766b": {
          "model_module": "@jupyter-widgets/controls",
          "model_name": "FloatProgressModel",
          "model_module_version": "1.5.0",
          "state": {
            "_view_name": "ProgressView",
            "style": "IPY_MODEL_6561ecdff1b74a1192d46fe5e71bce65",
            "_dom_classes": [],
            "description": "",
            "_model_name": "FloatProgressModel",
            "bar_style": "success",
            "max": 28881,
            "_view_module": "@jupyter-widgets/controls",
            "_model_module_version": "1.5.0",
            "value": 28881,
            "_view_count": null,
            "_view_module_version": "1.5.0",
            "orientation": "horizontal",
            "min": 0,
            "description_tooltip": null,
            "_model_module": "@jupyter-widgets/controls",
            "layout": "IPY_MODEL_ca8e5ecdab0f45658da06beb7874e35f"
          }
        },
        "1019e4a3d39d41259f74f3951b570fcf": {
          "model_module": "@jupyter-widgets/controls",
          "model_name": "HTMLModel",
          "model_module_version": "1.5.0",
          "state": {
            "_view_name": "HTMLView",
            "style": "IPY_MODEL_f92e7ace06da4334a7c6a385b35d872f",
            "_dom_classes": [],
            "description": "",
            "_model_name": "HTMLModel",
            "placeholder": "​",
            "_view_module": "@jupyter-widgets/controls",
            "_model_module_version": "1.5.0",
            "value": " 29696/? [00:00&lt;00:00, 619715.06it/s]",
            "_view_count": null,
            "_view_module_version": "1.5.0",
            "description_tooltip": null,
            "_model_module": "@jupyter-widgets/controls",
            "layout": "IPY_MODEL_c64eb442f97b43d4b7f4b9c0c5250979"
          }
        },
        "33827d4e35094439a55c6dd4a79de0a2": {
          "model_module": "@jupyter-widgets/controls",
          "model_name": "DescriptionStyleModel",
          "model_module_version": "1.5.0",
          "state": {
            "_view_name": "StyleView",
            "_model_name": "DescriptionStyleModel",
            "description_width": "",
            "_view_module": "@jupyter-widgets/base",
            "_model_module_version": "1.5.0",
            "_view_count": null,
            "_view_module_version": "1.2.0",
            "_model_module": "@jupyter-widgets/controls"
          }
        },
        "0aac02147b304c658a629826217c3cff": {
          "model_module": "@jupyter-widgets/base",
          "model_name": "LayoutModel",
          "model_module_version": "1.2.0",
          "state": {
            "_view_name": "LayoutView",
            "grid_template_rows": null,
            "right": null,
            "justify_content": null,
            "_view_module": "@jupyter-widgets/base",
            "overflow": null,
            "_model_module_version": "1.2.0",
            "_view_count": null,
            "flex_flow": null,
            "width": null,
            "min_width": null,
            "border": null,
            "align_items": null,
            "bottom": null,
            "_model_module": "@jupyter-widgets/base",
            "top": null,
            "grid_column": null,
            "overflow_y": null,
            "overflow_x": null,
            "grid_auto_flow": null,
            "grid_area": null,
            "grid_template_columns": null,
            "flex": null,
            "_model_name": "LayoutModel",
            "justify_items": null,
            "grid_row": null,
            "max_height": null,
            "align_content": null,
            "visibility": null,
            "align_self": null,
            "height": null,
            "min_height": null,
            "padding": null,
            "grid_auto_rows": null,
            "grid_gap": null,
            "max_width": null,
            "order": null,
            "_view_module_version": "1.2.0",
            "grid_template_areas": null,
            "object_position": null,
            "object_fit": null,
            "grid_auto_columns": null,
            "margin": null,
            "display": null,
            "left": null
          }
        },
        "6561ecdff1b74a1192d46fe5e71bce65": {
          "model_module": "@jupyter-widgets/controls",
          "model_name": "ProgressStyleModel",
          "model_module_version": "1.5.0",
          "state": {
            "_view_name": "StyleView",
            "_model_name": "ProgressStyleModel",
            "description_width": "",
            "_view_module": "@jupyter-widgets/base",
            "_model_module_version": "1.5.0",
            "_view_count": null,
            "_view_module_version": "1.2.0",
            "bar_color": null,
            "_model_module": "@jupyter-widgets/controls"
          }
        },
        "ca8e5ecdab0f45658da06beb7874e35f": {
          "model_module": "@jupyter-widgets/base",
          "model_name": "LayoutModel",
          "model_module_version": "1.2.0",
          "state": {
            "_view_name": "LayoutView",
            "grid_template_rows": null,
            "right": null,
            "justify_content": null,
            "_view_module": "@jupyter-widgets/base",
            "overflow": null,
            "_model_module_version": "1.2.0",
            "_view_count": null,
            "flex_flow": null,
            "width": null,
            "min_width": null,
            "border": null,
            "align_items": null,
            "bottom": null,
            "_model_module": "@jupyter-widgets/base",
            "top": null,
            "grid_column": null,
            "overflow_y": null,
            "overflow_x": null,
            "grid_auto_flow": null,
            "grid_area": null,
            "grid_template_columns": null,
            "flex": null,
            "_model_name": "LayoutModel",
            "justify_items": null,
            "grid_row": null,
            "max_height": null,
            "align_content": null,
            "visibility": null,
            "align_self": null,
            "height": null,
            "min_height": null,
            "padding": null,
            "grid_auto_rows": null,
            "grid_gap": null,
            "max_width": null,
            "order": null,
            "_view_module_version": "1.2.0",
            "grid_template_areas": null,
            "object_position": null,
            "object_fit": null,
            "grid_auto_columns": null,
            "margin": null,
            "display": null,
            "left": null
          }
        },
        "f92e7ace06da4334a7c6a385b35d872f": {
          "model_module": "@jupyter-widgets/controls",
          "model_name": "DescriptionStyleModel",
          "model_module_version": "1.5.0",
          "state": {
            "_view_name": "StyleView",
            "_model_name": "DescriptionStyleModel",
            "description_width": "",
            "_view_module": "@jupyter-widgets/base",
            "_model_module_version": "1.5.0",
            "_view_count": null,
            "_view_module_version": "1.2.0",
            "_model_module": "@jupyter-widgets/controls"
          }
        },
        "c64eb442f97b43d4b7f4b9c0c5250979": {
          "model_module": "@jupyter-widgets/base",
          "model_name": "LayoutModel",
          "model_module_version": "1.2.0",
          "state": {
            "_view_name": "LayoutView",
            "grid_template_rows": null,
            "right": null,
            "justify_content": null,
            "_view_module": "@jupyter-widgets/base",
            "overflow": null,
            "_model_module_version": "1.2.0",
            "_view_count": null,
            "flex_flow": null,
            "width": null,
            "min_width": null,
            "border": null,
            "align_items": null,
            "bottom": null,
            "_model_module": "@jupyter-widgets/base",
            "top": null,
            "grid_column": null,
            "overflow_y": null,
            "overflow_x": null,
            "grid_auto_flow": null,
            "grid_area": null,
            "grid_template_columns": null,
            "flex": null,
            "_model_name": "LayoutModel",
            "justify_items": null,
            "grid_row": null,
            "max_height": null,
            "align_content": null,
            "visibility": null,
            "align_self": null,
            "height": null,
            "min_height": null,
            "padding": null,
            "grid_auto_rows": null,
            "grid_gap": null,
            "max_width": null,
            "order": null,
            "_view_module_version": "1.2.0",
            "grid_template_areas": null,
            "object_position": null,
            "object_fit": null,
            "grid_auto_columns": null,
            "margin": null,
            "display": null,
            "left": null
          }
        },
        "badfee4c0df94c038946414ebbc240b4": {
          "model_module": "@jupyter-widgets/controls",
          "model_name": "HBoxModel",
          "model_module_version": "1.5.0",
          "state": {
            "_view_name": "HBoxView",
            "_dom_classes": [],
            "_model_name": "HBoxModel",
            "_view_module": "@jupyter-widgets/controls",
            "_model_module_version": "1.5.0",
            "_view_count": null,
            "_view_module_version": "1.5.0",
            "box_style": "",
            "layout": "IPY_MODEL_b721dd51dada48e79cfd5323a0167199",
            "_model_module": "@jupyter-widgets/controls",
            "children": [
              "IPY_MODEL_8ab3307fe09a4ff2b66df83fd0662d3c",
              "IPY_MODEL_b9006982a7494a018ce7c0db42f7bae0",
              "IPY_MODEL_a2d9ab21358b4dfdb2ae72006a83ad63"
            ]
          }
        },
        "b721dd51dada48e79cfd5323a0167199": {
          "model_module": "@jupyter-widgets/base",
          "model_name": "LayoutModel",
          "model_module_version": "1.2.0",
          "state": {
            "_view_name": "LayoutView",
            "grid_template_rows": null,
            "right": null,
            "justify_content": null,
            "_view_module": "@jupyter-widgets/base",
            "overflow": null,
            "_model_module_version": "1.2.0",
            "_view_count": null,
            "flex_flow": null,
            "width": null,
            "min_width": null,
            "border": null,
            "align_items": null,
            "bottom": null,
            "_model_module": "@jupyter-widgets/base",
            "top": null,
            "grid_column": null,
            "overflow_y": null,
            "overflow_x": null,
            "grid_auto_flow": null,
            "grid_area": null,
            "grid_template_columns": null,
            "flex": null,
            "_model_name": "LayoutModel",
            "justify_items": null,
            "grid_row": null,
            "max_height": null,
            "align_content": null,
            "visibility": null,
            "align_self": null,
            "height": null,
            "min_height": null,
            "padding": null,
            "grid_auto_rows": null,
            "grid_gap": null,
            "max_width": null,
            "order": null,
            "_view_module_version": "1.2.0",
            "grid_template_areas": null,
            "object_position": null,
            "object_fit": null,
            "grid_auto_columns": null,
            "margin": null,
            "display": null,
            "left": null
          }
        },
        "8ab3307fe09a4ff2b66df83fd0662d3c": {
          "model_module": "@jupyter-widgets/controls",
          "model_name": "HTMLModel",
          "model_module_version": "1.5.0",
          "state": {
            "_view_name": "HTMLView",
            "style": "IPY_MODEL_d9498e9420f340f493ef2640972791d5",
            "_dom_classes": [],
            "description": "",
            "_model_name": "HTMLModel",
            "placeholder": "​",
            "_view_module": "@jupyter-widgets/controls",
            "_model_module_version": "1.5.0",
            "value": "",
            "_view_count": null,
            "_view_module_version": "1.5.0",
            "description_tooltip": null,
            "_model_module": "@jupyter-widgets/controls",
            "layout": "IPY_MODEL_715f5790025a48fa9dac928e4019b10b"
          }
        },
        "b9006982a7494a018ce7c0db42f7bae0": {
          "model_module": "@jupyter-widgets/controls",
          "model_name": "FloatProgressModel",
          "model_module_version": "1.5.0",
          "state": {
            "_view_name": "ProgressView",
            "style": "IPY_MODEL_d6b1b866a8e544d187d6b64220fc5a05",
            "_dom_classes": [],
            "description": "",
            "_model_name": "FloatProgressModel",
            "bar_style": "success",
            "max": 1648877,
            "_view_module": "@jupyter-widgets/controls",
            "_model_module_version": "1.5.0",
            "value": 1648877,
            "_view_count": null,
            "_view_module_version": "1.5.0",
            "orientation": "horizontal",
            "min": 0,
            "description_tooltip": null,
            "_model_module": "@jupyter-widgets/controls",
            "layout": "IPY_MODEL_c116486301ee47f7bf25585678df2cd1"
          }
        },
        "a2d9ab21358b4dfdb2ae72006a83ad63": {
          "model_module": "@jupyter-widgets/controls",
          "model_name": "HTMLModel",
          "model_module_version": "1.5.0",
          "state": {
            "_view_name": "HTMLView",
            "style": "IPY_MODEL_ecfc67f962a14ba4be5eaad448a974dd",
            "_dom_classes": [],
            "description": "",
            "_model_name": "HTMLModel",
            "placeholder": "​",
            "_view_module": "@jupyter-widgets/controls",
            "_model_module_version": "1.5.0",
            "value": " 1649664/? [00:00&lt;00:00, 8429166.65it/s]",
            "_view_count": null,
            "_view_module_version": "1.5.0",
            "description_tooltip": null,
            "_model_module": "@jupyter-widgets/controls",
            "layout": "IPY_MODEL_a975379ce6304e4b98126e814380cf02"
          }
        },
        "d9498e9420f340f493ef2640972791d5": {
          "model_module": "@jupyter-widgets/controls",
          "model_name": "DescriptionStyleModel",
          "model_module_version": "1.5.0",
          "state": {
            "_view_name": "StyleView",
            "_model_name": "DescriptionStyleModel",
            "description_width": "",
            "_view_module": "@jupyter-widgets/base",
            "_model_module_version": "1.5.0",
            "_view_count": null,
            "_view_module_version": "1.2.0",
            "_model_module": "@jupyter-widgets/controls"
          }
        },
        "715f5790025a48fa9dac928e4019b10b": {
          "model_module": "@jupyter-widgets/base",
          "model_name": "LayoutModel",
          "model_module_version": "1.2.0",
          "state": {
            "_view_name": "LayoutView",
            "grid_template_rows": null,
            "right": null,
            "justify_content": null,
            "_view_module": "@jupyter-widgets/base",
            "overflow": null,
            "_model_module_version": "1.2.0",
            "_view_count": null,
            "flex_flow": null,
            "width": null,
            "min_width": null,
            "border": null,
            "align_items": null,
            "bottom": null,
            "_model_module": "@jupyter-widgets/base",
            "top": null,
            "grid_column": null,
            "overflow_y": null,
            "overflow_x": null,
            "grid_auto_flow": null,
            "grid_area": null,
            "grid_template_columns": null,
            "flex": null,
            "_model_name": "LayoutModel",
            "justify_items": null,
            "grid_row": null,
            "max_height": null,
            "align_content": null,
            "visibility": null,
            "align_self": null,
            "height": null,
            "min_height": null,
            "padding": null,
            "grid_auto_rows": null,
            "grid_gap": null,
            "max_width": null,
            "order": null,
            "_view_module_version": "1.2.0",
            "grid_template_areas": null,
            "object_position": null,
            "object_fit": null,
            "grid_auto_columns": null,
            "margin": null,
            "display": null,
            "left": null
          }
        },
        "d6b1b866a8e544d187d6b64220fc5a05": {
          "model_module": "@jupyter-widgets/controls",
          "model_name": "ProgressStyleModel",
          "model_module_version": "1.5.0",
          "state": {
            "_view_name": "StyleView",
            "_model_name": "ProgressStyleModel",
            "description_width": "",
            "_view_module": "@jupyter-widgets/base",
            "_model_module_version": "1.5.0",
            "_view_count": null,
            "_view_module_version": "1.2.0",
            "bar_color": null,
            "_model_module": "@jupyter-widgets/controls"
          }
        },
        "c116486301ee47f7bf25585678df2cd1": {
          "model_module": "@jupyter-widgets/base",
          "model_name": "LayoutModel",
          "model_module_version": "1.2.0",
          "state": {
            "_view_name": "LayoutView",
            "grid_template_rows": null,
            "right": null,
            "justify_content": null,
            "_view_module": "@jupyter-widgets/base",
            "overflow": null,
            "_model_module_version": "1.2.0",
            "_view_count": null,
            "flex_flow": null,
            "width": null,
            "min_width": null,
            "border": null,
            "align_items": null,
            "bottom": null,
            "_model_module": "@jupyter-widgets/base",
            "top": null,
            "grid_column": null,
            "overflow_y": null,
            "overflow_x": null,
            "grid_auto_flow": null,
            "grid_area": null,
            "grid_template_columns": null,
            "flex": null,
            "_model_name": "LayoutModel",
            "justify_items": null,
            "grid_row": null,
            "max_height": null,
            "align_content": null,
            "visibility": null,
            "align_self": null,
            "height": null,
            "min_height": null,
            "padding": null,
            "grid_auto_rows": null,
            "grid_gap": null,
            "max_width": null,
            "order": null,
            "_view_module_version": "1.2.0",
            "grid_template_areas": null,
            "object_position": null,
            "object_fit": null,
            "grid_auto_columns": null,
            "margin": null,
            "display": null,
            "left": null
          }
        },
        "ecfc67f962a14ba4be5eaad448a974dd": {
          "model_module": "@jupyter-widgets/controls",
          "model_name": "DescriptionStyleModel",
          "model_module_version": "1.5.0",
          "state": {
            "_view_name": "StyleView",
            "_model_name": "DescriptionStyleModel",
            "description_width": "",
            "_view_module": "@jupyter-widgets/base",
            "_model_module_version": "1.5.0",
            "_view_count": null,
            "_view_module_version": "1.2.0",
            "_model_module": "@jupyter-widgets/controls"
          }
        },
        "a975379ce6304e4b98126e814380cf02": {
          "model_module": "@jupyter-widgets/base",
          "model_name": "LayoutModel",
          "model_module_version": "1.2.0",
          "state": {
            "_view_name": "LayoutView",
            "grid_template_rows": null,
            "right": null,
            "justify_content": null,
            "_view_module": "@jupyter-widgets/base",
            "overflow": null,
            "_model_module_version": "1.2.0",
            "_view_count": null,
            "flex_flow": null,
            "width": null,
            "min_width": null,
            "border": null,
            "align_items": null,
            "bottom": null,
            "_model_module": "@jupyter-widgets/base",
            "top": null,
            "grid_column": null,
            "overflow_y": null,
            "overflow_x": null,
            "grid_auto_flow": null,
            "grid_area": null,
            "grid_template_columns": null,
            "flex": null,
            "_model_name": "LayoutModel",
            "justify_items": null,
            "grid_row": null,
            "max_height": null,
            "align_content": null,
            "visibility": null,
            "align_self": null,
            "height": null,
            "min_height": null,
            "padding": null,
            "grid_auto_rows": null,
            "grid_gap": null,
            "max_width": null,
            "order": null,
            "_view_module_version": "1.2.0",
            "grid_template_areas": null,
            "object_position": null,
            "object_fit": null,
            "grid_auto_columns": null,
            "margin": null,
            "display": null,
            "left": null
          }
        },
        "edfcd06979bb44349e89031c6e991127": {
          "model_module": "@jupyter-widgets/controls",
          "model_name": "HBoxModel",
          "model_module_version": "1.5.0",
          "state": {
            "_view_name": "HBoxView",
            "_dom_classes": [],
            "_model_name": "HBoxModel",
            "_view_module": "@jupyter-widgets/controls",
            "_model_module_version": "1.5.0",
            "_view_count": null,
            "_view_module_version": "1.5.0",
            "box_style": "",
            "layout": "IPY_MODEL_b9a8ec83f3c747939d6fc5850de9e2e4",
            "_model_module": "@jupyter-widgets/controls",
            "children": [
              "IPY_MODEL_650a12f009bd44b78e20df9347553f8b",
              "IPY_MODEL_ac104718d80243779a3991e3a80e5352",
              "IPY_MODEL_841d57c7e7264f9fb7547f8127e68440"
            ]
          }
        },
        "b9a8ec83f3c747939d6fc5850de9e2e4": {
          "model_module": "@jupyter-widgets/base",
          "model_name": "LayoutModel",
          "model_module_version": "1.2.0",
          "state": {
            "_view_name": "LayoutView",
            "grid_template_rows": null,
            "right": null,
            "justify_content": null,
            "_view_module": "@jupyter-widgets/base",
            "overflow": null,
            "_model_module_version": "1.2.0",
            "_view_count": null,
            "flex_flow": null,
            "width": null,
            "min_width": null,
            "border": null,
            "align_items": null,
            "bottom": null,
            "_model_module": "@jupyter-widgets/base",
            "top": null,
            "grid_column": null,
            "overflow_y": null,
            "overflow_x": null,
            "grid_auto_flow": null,
            "grid_area": null,
            "grid_template_columns": null,
            "flex": null,
            "_model_name": "LayoutModel",
            "justify_items": null,
            "grid_row": null,
            "max_height": null,
            "align_content": null,
            "visibility": null,
            "align_self": null,
            "height": null,
            "min_height": null,
            "padding": null,
            "grid_auto_rows": null,
            "grid_gap": null,
            "max_width": null,
            "order": null,
            "_view_module_version": "1.2.0",
            "grid_template_areas": null,
            "object_position": null,
            "object_fit": null,
            "grid_auto_columns": null,
            "margin": null,
            "display": null,
            "left": null
          }
        },
        "650a12f009bd44b78e20df9347553f8b": {
          "model_module": "@jupyter-widgets/controls",
          "model_name": "HTMLModel",
          "model_module_version": "1.5.0",
          "state": {
            "_view_name": "HTMLView",
            "style": "IPY_MODEL_7af925db1971463099c0d5de76cb6303",
            "_dom_classes": [],
            "description": "",
            "_model_name": "HTMLModel",
            "placeholder": "​",
            "_view_module": "@jupyter-widgets/controls",
            "_model_module_version": "1.5.0",
            "value": "",
            "_view_count": null,
            "_view_module_version": "1.5.0",
            "description_tooltip": null,
            "_model_module": "@jupyter-widgets/controls",
            "layout": "IPY_MODEL_b1a92fd2235d43239c87efc5bbcafc19"
          }
        },
        "ac104718d80243779a3991e3a80e5352": {
          "model_module": "@jupyter-widgets/controls",
          "model_name": "FloatProgressModel",
          "model_module_version": "1.5.0",
          "state": {
            "_view_name": "ProgressView",
            "style": "IPY_MODEL_eae45f8de7094b53b9e66ac6dd4f5f5a",
            "_dom_classes": [],
            "description": "",
            "_model_name": "FloatProgressModel",
            "bar_style": "success",
            "max": 4542,
            "_view_module": "@jupyter-widgets/controls",
            "_model_module_version": "1.5.0",
            "value": 4542,
            "_view_count": null,
            "_view_module_version": "1.5.0",
            "orientation": "horizontal",
            "min": 0,
            "description_tooltip": null,
            "_model_module": "@jupyter-widgets/controls",
            "layout": "IPY_MODEL_aacf904c026a4fcba6ef9993658f2fa4"
          }
        },
        "841d57c7e7264f9fb7547f8127e68440": {
          "model_module": "@jupyter-widgets/controls",
          "model_name": "HTMLModel",
          "model_module_version": "1.5.0",
          "state": {
            "_view_name": "HTMLView",
            "style": "IPY_MODEL_187934235481459fb2b7993175721679",
            "_dom_classes": [],
            "description": "",
            "_model_name": "HTMLModel",
            "placeholder": "​",
            "_view_module": "@jupyter-widgets/controls",
            "_model_module_version": "1.5.0",
            "value": " 5120/? [00:00&lt;00:00, 113253.15it/s]",
            "_view_count": null,
            "_view_module_version": "1.5.0",
            "description_tooltip": null,
            "_model_module": "@jupyter-widgets/controls",
            "layout": "IPY_MODEL_0b5d9a6a5a38483e8c8e027cdad34fc6"
          }
        },
        "7af925db1971463099c0d5de76cb6303": {
          "model_module": "@jupyter-widgets/controls",
          "model_name": "DescriptionStyleModel",
          "model_module_version": "1.5.0",
          "state": {
            "_view_name": "StyleView",
            "_model_name": "DescriptionStyleModel",
            "description_width": "",
            "_view_module": "@jupyter-widgets/base",
            "_model_module_version": "1.5.0",
            "_view_count": null,
            "_view_module_version": "1.2.0",
            "_model_module": "@jupyter-widgets/controls"
          }
        },
        "b1a92fd2235d43239c87efc5bbcafc19": {
          "model_module": "@jupyter-widgets/base",
          "model_name": "LayoutModel",
          "model_module_version": "1.2.0",
          "state": {
            "_view_name": "LayoutView",
            "grid_template_rows": null,
            "right": null,
            "justify_content": null,
            "_view_module": "@jupyter-widgets/base",
            "overflow": null,
            "_model_module_version": "1.2.0",
            "_view_count": null,
            "flex_flow": null,
            "width": null,
            "min_width": null,
            "border": null,
            "align_items": null,
            "bottom": null,
            "_model_module": "@jupyter-widgets/base",
            "top": null,
            "grid_column": null,
            "overflow_y": null,
            "overflow_x": null,
            "grid_auto_flow": null,
            "grid_area": null,
            "grid_template_columns": null,
            "flex": null,
            "_model_name": "LayoutModel",
            "justify_items": null,
            "grid_row": null,
            "max_height": null,
            "align_content": null,
            "visibility": null,
            "align_self": null,
            "height": null,
            "min_height": null,
            "padding": null,
            "grid_auto_rows": null,
            "grid_gap": null,
            "max_width": null,
            "order": null,
            "_view_module_version": "1.2.0",
            "grid_template_areas": null,
            "object_position": null,
            "object_fit": null,
            "grid_auto_columns": null,
            "margin": null,
            "display": null,
            "left": null
          }
        },
        "eae45f8de7094b53b9e66ac6dd4f5f5a": {
          "model_module": "@jupyter-widgets/controls",
          "model_name": "ProgressStyleModel",
          "model_module_version": "1.5.0",
          "state": {
            "_view_name": "StyleView",
            "_model_name": "ProgressStyleModel",
            "description_width": "",
            "_view_module": "@jupyter-widgets/base",
            "_model_module_version": "1.5.0",
            "_view_count": null,
            "_view_module_version": "1.2.0",
            "bar_color": null,
            "_model_module": "@jupyter-widgets/controls"
          }
        },
        "aacf904c026a4fcba6ef9993658f2fa4": {
          "model_module": "@jupyter-widgets/base",
          "model_name": "LayoutModel",
          "model_module_version": "1.2.0",
          "state": {
            "_view_name": "LayoutView",
            "grid_template_rows": null,
            "right": null,
            "justify_content": null,
            "_view_module": "@jupyter-widgets/base",
            "overflow": null,
            "_model_module_version": "1.2.0",
            "_view_count": null,
            "flex_flow": null,
            "width": null,
            "min_width": null,
            "border": null,
            "align_items": null,
            "bottom": null,
            "_model_module": "@jupyter-widgets/base",
            "top": null,
            "grid_column": null,
            "overflow_y": null,
            "overflow_x": null,
            "grid_auto_flow": null,
            "grid_area": null,
            "grid_template_columns": null,
            "flex": null,
            "_model_name": "LayoutModel",
            "justify_items": null,
            "grid_row": null,
            "max_height": null,
            "align_content": null,
            "visibility": null,
            "align_self": null,
            "height": null,
            "min_height": null,
            "padding": null,
            "grid_auto_rows": null,
            "grid_gap": null,
            "max_width": null,
            "order": null,
            "_view_module_version": "1.2.0",
            "grid_template_areas": null,
            "object_position": null,
            "object_fit": null,
            "grid_auto_columns": null,
            "margin": null,
            "display": null,
            "left": null
          }
        },
        "187934235481459fb2b7993175721679": {
          "model_module": "@jupyter-widgets/controls",
          "model_name": "DescriptionStyleModel",
          "model_module_version": "1.5.0",
          "state": {
            "_view_name": "StyleView",
            "_model_name": "DescriptionStyleModel",
            "description_width": "",
            "_view_module": "@jupyter-widgets/base",
            "_model_module_version": "1.5.0",
            "_view_count": null,
            "_view_module_version": "1.2.0",
            "_model_module": "@jupyter-widgets/controls"
          }
        },
        "0b5d9a6a5a38483e8c8e027cdad34fc6": {
          "model_module": "@jupyter-widgets/base",
          "model_name": "LayoutModel",
          "model_module_version": "1.2.0",
          "state": {
            "_view_name": "LayoutView",
            "grid_template_rows": null,
            "right": null,
            "justify_content": null,
            "_view_module": "@jupyter-widgets/base",
            "overflow": null,
            "_model_module_version": "1.2.0",
            "_view_count": null,
            "flex_flow": null,
            "width": null,
            "min_width": null,
            "border": null,
            "align_items": null,
            "bottom": null,
            "_model_module": "@jupyter-widgets/base",
            "top": null,
            "grid_column": null,
            "overflow_y": null,
            "overflow_x": null,
            "grid_auto_flow": null,
            "grid_area": null,
            "grid_template_columns": null,
            "flex": null,
            "_model_name": "LayoutModel",
            "justify_items": null,
            "grid_row": null,
            "max_height": null,
            "align_content": null,
            "visibility": null,
            "align_self": null,
            "height": null,
            "min_height": null,
            "padding": null,
            "grid_auto_rows": null,
            "grid_gap": null,
            "max_width": null,
            "order": null,
            "_view_module_version": "1.2.0",
            "grid_template_areas": null,
            "object_position": null,
            "object_fit": null,
            "grid_auto_columns": null,
            "margin": null,
            "display": null,
            "left": null
          }
        }
      }
    }
  },
  "cells": [
    {
      "cell_type": "markdown",
      "metadata": {
        "id": "yFKD8hsuLAmm"
      },
      "source": [
        "# Generative Adversarial Network\n",
        "\n",
        "In this notebook, we'll be building a generative adversarial network (GAN) trained on the MNIST dataset. From this, we'll be able to generate new handwritten digits!\n",
        "\n",
        "GANs were [first reported on](https://arxiv.org/abs/1406.2661) in 2014 from Ian Goodfellow and others in Yoshua Bengio's lab. Since then, GANs have exploded in popularity. Here are a few examples to check out:\n",
        "\n",
        "* [Pix2Pix](https://affinelayer.com/pixsrv/) \n",
        "* [CycleGAN & Pix2Pix in PyTorch, Jun-Yan Zhu](https://github.com/junyanz/pytorch-CycleGAN-and-pix2pix)\n",
        "* [A list of generative models](https://github.com/wiseodd/generative-models)\n",
        "\n",
        "The idea behind GANs is that you have two networks, a generator $G$ and a discriminator $D$, competing against each other. The generator makes \"fake\" data to pass to the discriminator. The discriminator also sees real training data and predicts if the data it's received is real or fake. \n",
        "> * The generator is trained to fool the discriminator, it wants to output data that looks _as close as possible_ to real, training data. \n",
        "* The discriminator is a classifier that is trained to figure out which data is real and which is fake. \n",
        "\n",
        "What ends up happening is that the generator learns to make data that is indistinguishable from real data to the discriminator.\n",
        "\n",
        "<img src='assets/gan_pipeline.png' width=70% />\n",
        "\n",
        "The general structure of a GAN is shown in the diagram above, using MNIST images as data. The latent sample is a random vector that the generator uses to construct its fake images. This is often called a **latent vector** and that vector space is called **latent space**. As the generator trains, it figures out how to map latent vectors to recognizable images that can fool the discriminator.\n",
        "\n",
        "If you're interested in generating only new images, you can throw out the discriminator after training. In this notebook, I'll show you how to define and train these adversarial networks in PyTorch and generate new images!"
      ]
    },
    {
      "cell_type": "code",
      "metadata": {
        "collapsed": true,
        "id": "LzEnzxIrLAm0"
      },
      "source": [
        "%matplotlib inline\n",
        "\n",
        "import numpy as np\n",
        "import torch\n",
        "import matplotlib.pyplot as plt"
      ],
      "execution_count": 1,
      "outputs": []
    },
    {
      "cell_type": "code",
      "metadata": {
        "collapsed": true,
        "colab": {
          "base_uri": "https://localhost:8080/",
          "height": 477,
          "referenced_widgets": [
            "aa1a3a4b06ee4838b1bbac00f79faba2",
            "faeaa4d44a0c49198c38b389389cba38",
            "1ac0ce0ad8c74d69afdd1feac9353af4",
            "c5fbb276196d4aef984bb9ac28e42f24",
            "20c741053e7f4a2eb64496e0d26fa1b9",
            "fc077ccb86244be58ee124ac87685e0d",
            "e5b53f330b3e499ab3aa7a92c57be5a2",
            "e0d31cbeb6eb4c1b834266f8abb2e9a4",
            "40d363effd8c40a9939be9873277bd0a",
            "e5a07566d60e4bbabe725553698b985d",
            "c7d83ed2da6d4a328146e12c63535c7d",
            "610a557bdda0467684b2ec58b24255fe",
            "0fcc174673a245a092b42d918b3ed049",
            "d15066e9a1494b4db27ceb095db21229",
            "72f5783810ca492ca339d48c1f3f766b",
            "1019e4a3d39d41259f74f3951b570fcf",
            "33827d4e35094439a55c6dd4a79de0a2",
            "0aac02147b304c658a629826217c3cff",
            "6561ecdff1b74a1192d46fe5e71bce65",
            "ca8e5ecdab0f45658da06beb7874e35f",
            "f92e7ace06da4334a7c6a385b35d872f",
            "c64eb442f97b43d4b7f4b9c0c5250979",
            "badfee4c0df94c038946414ebbc240b4",
            "b721dd51dada48e79cfd5323a0167199",
            "8ab3307fe09a4ff2b66df83fd0662d3c",
            "b9006982a7494a018ce7c0db42f7bae0",
            "a2d9ab21358b4dfdb2ae72006a83ad63",
            "d9498e9420f340f493ef2640972791d5",
            "715f5790025a48fa9dac928e4019b10b",
            "d6b1b866a8e544d187d6b64220fc5a05",
            "c116486301ee47f7bf25585678df2cd1",
            "ecfc67f962a14ba4be5eaad448a974dd",
            "a975379ce6304e4b98126e814380cf02",
            "edfcd06979bb44349e89031c6e991127",
            "b9a8ec83f3c747939d6fc5850de9e2e4",
            "650a12f009bd44b78e20df9347553f8b",
            "ac104718d80243779a3991e3a80e5352",
            "841d57c7e7264f9fb7547f8127e68440",
            "7af925db1971463099c0d5de76cb6303",
            "b1a92fd2235d43239c87efc5bbcafc19",
            "eae45f8de7094b53b9e66ac6dd4f5f5a",
            "aacf904c026a4fcba6ef9993658f2fa4",
            "187934235481459fb2b7993175721679",
            "0b5d9a6a5a38483e8c8e027cdad34fc6"
          ]
        },
        "id": "VPoGtLmuLAm3",
        "outputId": "ab208f8a-d382-4db2-cd91-84e1f9b5e88d"
      },
      "source": [
        "from torchvision import datasets\n",
        "import torchvision.transforms as transforms\n",
        "\n",
        "# number of subprocesses to use for data loading\n",
        "num_workers = 0\n",
        "# how many samples per batch to load\n",
        "batch_size = 64\n",
        "\n",
        "# convert data to torch.FloatTensor\n",
        "transform = transforms.ToTensor()\n",
        "\n",
        "# get the training datasets\n",
        "train_data = datasets.MNIST(root='data', train=True,\n",
        "                                   download=True, transform=transform)\n",
        "\n",
        "# prepare data loader\n",
        "train_loader = torch.utils.data.DataLoader(train_data, batch_size=batch_size,\n",
        "                                           num_workers=num_workers)"
      ],
      "execution_count": 2,
      "outputs": [
        {
          "output_type": "stream",
          "name": "stdout",
          "text": [
            "Downloading http://yann.lecun.com/exdb/mnist/train-images-idx3-ubyte.gz\n",
            "Downloading http://yann.lecun.com/exdb/mnist/train-images-idx3-ubyte.gz to data/MNIST/raw/train-images-idx3-ubyte.gz\n"
          ]
        },
        {
          "output_type": "display_data",
          "data": {
            "application/vnd.jupyter.widget-view+json": {
              "model_id": "aa1a3a4b06ee4838b1bbac00f79faba2",
              "version_minor": 0,
              "version_major": 2
            },
            "text/plain": [
              "  0%|          | 0/9912422 [00:00<?, ?it/s]"
            ]
          },
          "metadata": {}
        },
        {
          "output_type": "stream",
          "name": "stdout",
          "text": [
            "Extracting data/MNIST/raw/train-images-idx3-ubyte.gz to data/MNIST/raw\n",
            "\n",
            "Downloading http://yann.lecun.com/exdb/mnist/train-labels-idx1-ubyte.gz\n",
            "Downloading http://yann.lecun.com/exdb/mnist/train-labels-idx1-ubyte.gz to data/MNIST/raw/train-labels-idx1-ubyte.gz\n"
          ]
        },
        {
          "output_type": "display_data",
          "data": {
            "application/vnd.jupyter.widget-view+json": {
              "model_id": "610a557bdda0467684b2ec58b24255fe",
              "version_minor": 0,
              "version_major": 2
            },
            "text/plain": [
              "  0%|          | 0/28881 [00:00<?, ?it/s]"
            ]
          },
          "metadata": {}
        },
        {
          "output_type": "stream",
          "name": "stdout",
          "text": [
            "Extracting data/MNIST/raw/train-labels-idx1-ubyte.gz to data/MNIST/raw\n",
            "\n",
            "Downloading http://yann.lecun.com/exdb/mnist/t10k-images-idx3-ubyte.gz\n",
            "Downloading http://yann.lecun.com/exdb/mnist/t10k-images-idx3-ubyte.gz to data/MNIST/raw/t10k-images-idx3-ubyte.gz\n"
          ]
        },
        {
          "output_type": "display_data",
          "data": {
            "application/vnd.jupyter.widget-view+json": {
              "model_id": "badfee4c0df94c038946414ebbc240b4",
              "version_minor": 0,
              "version_major": 2
            },
            "text/plain": [
              "  0%|          | 0/1648877 [00:00<?, ?it/s]"
            ]
          },
          "metadata": {}
        },
        {
          "output_type": "stream",
          "name": "stdout",
          "text": [
            "Extracting data/MNIST/raw/t10k-images-idx3-ubyte.gz to data/MNIST/raw\n",
            "\n",
            "Downloading http://yann.lecun.com/exdb/mnist/t10k-labels-idx1-ubyte.gz\n",
            "Downloading http://yann.lecun.com/exdb/mnist/t10k-labels-idx1-ubyte.gz to data/MNIST/raw/t10k-labels-idx1-ubyte.gz\n"
          ]
        },
        {
          "output_type": "display_data",
          "data": {
            "application/vnd.jupyter.widget-view+json": {
              "model_id": "edfcd06979bb44349e89031c6e991127",
              "version_minor": 0,
              "version_major": 2
            },
            "text/plain": [
              "  0%|          | 0/4542 [00:00<?, ?it/s]"
            ]
          },
          "metadata": {}
        },
        {
          "output_type": "stream",
          "name": "stdout",
          "text": [
            "Extracting data/MNIST/raw/t10k-labels-idx1-ubyte.gz to data/MNIST/raw\n",
            "\n"
          ]
        },
        {
          "output_type": "stream",
          "name": "stderr",
          "text": [
            "/usr/local/lib/python3.7/dist-packages/torchvision/datasets/mnist.py:498: UserWarning: The given NumPy array is not writeable, and PyTorch does not support non-writeable tensors. This means you can write to the underlying (supposedly non-writeable) NumPy array using the tensor. You may want to copy the array to protect its data or make it writeable before converting it to a tensor. This type of warning will be suppressed for the rest of this program. (Triggered internally at  /pytorch/torch/csrc/utils/tensor_numpy.cpp:180.)\n",
            "  return torch.from_numpy(parsed.astype(m[2], copy=False)).view(*s)\n"
          ]
        }
      ]
    },
    {
      "cell_type": "markdown",
      "metadata": {
        "id": "TC91BA8nLAm4"
      },
      "source": [
        "### Visualize the data"
      ]
    },
    {
      "cell_type": "code",
      "metadata": {
        "colab": {
          "base_uri": "https://localhost:8080/",
          "height": 229
        },
        "id": "oBzr1b7-LAm6",
        "outputId": "b4b63783-b9c7-4a3e-f4e6-eeede8dce849"
      },
      "source": [
        "# obtain one batch of training images\n",
        "dataiter = iter(train_loader)\n",
        "images, labels = dataiter.next()\n",
        "images = images.numpy()\n",
        "\n",
        "# get one image from the batch\n",
        "img = np.squeeze(images[0])\n",
        "\n",
        "fig = plt.figure(figsize = (3,3)) \n",
        "ax = fig.add_subplot(111)\n",
        "ax.imshow(img, cmap='gray')"
      ],
      "execution_count": 3,
      "outputs": [
        {
          "output_type": "execute_result",
          "data": {
            "text/plain": [
              "<matplotlib.image.AxesImage at 0x7f87a12193d0>"
            ]
          },
          "metadata": {},
          "execution_count": 3
        },
        {
          "output_type": "display_data",
          "data": {
            "image/png": "[encoded data removed]",
            "text/plain": [
              "<Figure size 216x216 with 1 Axes>"
            ]
          },
          "metadata": {
            "needs_background": "light"
          }
        }
      ]
    },
    {
      "cell_type": "markdown",
      "metadata": {
        "id": "zDlNMATwLAm9"
      },
      "source": [
        "---\n",
        "# Define the Model\n",
        "\n",
        "A GAN is comprised of two adversarial networks, a discriminator and a generator."
      ]
    },
    {
      "cell_type": "markdown",
      "metadata": {
        "id": "7fL2cN3kLAm-"
      },
      "source": [
        "## Discriminator\n",
        "\n",
        "The discriminator network is going to be a pretty typical linear classifier. To make this network a universal function approximator, we'll need at least one hidden layer, and these hidden layers should have one key attribute:\n",
        "> All hidden layers will have a [Leaky ReLu](https://pytorch.org/docs/stable/nn.html#torch.nn.LeakyReLU) activation function applied to their outputs.\n",
        "\n",
        "<img src='assets/gan_network.png' width=70% />\n",
        "\n",
        "#### Leaky ReLu\n",
        "\n",
        "We should use a leaky ReLU to allow gradients to flow backwards through the layer unimpeded. A leaky ReLU is like a normal ReLU, except that there is a small non-zero output for negative input values.\n",
        "\n",
        "<img src='assets/leaky_relu.png' width=40% />\n",
        "\n",
        "#### Sigmoid Output\n",
        "\n",
        "We'll also take the approach of using a more numerically stable loss function on the outputs. Recall that we want the discriminator to output a value 0-1 indicating whether an image is _real or fake_. \n",
        "> We will ultimately use [BCEWithLogitsLoss](https://pytorch.org/docs/stable/nn.html#bcewithlogitsloss), which combines a `sigmoid` activation function **and** binary cross entropy loss in one function. \n",
        "\n",
        "So, our final output layer should not have any activation function applied to it."
      ]
    },
    {
      "cell_type": "code",
      "metadata": {
        "collapsed": true,
        "id": "933EIq7nLAm_"
      },
      "source": [
        "import torch.nn as nn\n",
        "import torch.nn.functional as F\n",
        "\n",
        "class Discriminator(nn.Module):\n",
        "\n",
        "    def __init__(self, input_size, hidden_dim, output_size):\n",
        "        super(Discriminator, self).__init__()\n",
        "        \n",
        "        # define hidden linear layers\n",
        "        self.fc1 = nn.Linear(input_size, hidden_dim*4)\n",
        "        self.fc2 = nn.Linear(hidden_dim*4, hidden_dim*2)\n",
        "        self.fc3 = nn.Linear(hidden_dim*2, hidden_dim)\n",
        "        \n",
        "        # final fully-connected layer\n",
        "        self.fc4 = nn.Linear(hidden_dim, output_size)\n",
        "        \n",
        "        # dropout layer \n",
        "        self.dropout = nn.Dropout(0.3)\n",
        "        \n",
        "        \n",
        "    def forward(self, x):\n",
        "        # flatten image\n",
        "        x = x.view(-1, 28*28)\n",
        "        # all hidden layers\n",
        "        x = F.leaky_relu(self.fc1(x), 0.2) # (input, negative_slope=0.2)\n",
        "        x = self.dropout(x)\n",
        "        x = F.leaky_relu(self.fc2(x), 0.2)\n",
        "        x = self.dropout(x)\n",
        "        x = F.leaky_relu(self.fc3(x), 0.2)\n",
        "        x = self.dropout(x)\n",
        "        # final layer\n",
        "        out = self.fc4(x)\n",
        "\n",
        "        return out\n"
      ],
      "execution_count": 4,
      "outputs": []
    },
    {
      "cell_type": "markdown",
      "metadata": {
        "id": "mh0upTGzLAnA"
      },
      "source": [
        "## Generator\n",
        "\n",
        "The generator network will be almost exactly the same as the discriminator network, except that we're applying a [tanh activation function](https://pytorch.org/docs/stable/nn.html#tanh) to our output layer.\n",
        "\n",
        "#### tanh Output\n",
        "The generator has been found to perform the best with $tanh$ for the generator output, which scales the output to be between -1 and 1, instead of 0 and 1. \n",
        "\n",
        "<img src='assets/tanh_fn.png' width=40% />\n",
        "\n",
        "Recall that we also want these outputs to be comparable to the *real* input pixel values, which are read in as normalized values between 0 and 1. \n",
        "> So, we'll also have to **scale our real input images to have pixel values between -1 and 1** when we train the discriminator. \n",
        "\n",
        "I'll do this in the training loop, later on."
      ]
    },
    {
      "cell_type": "code",
      "metadata": {
        "collapsed": true,
        "id": "O2XvoY-7LAnB"
      },
      "source": [
        "class Generator(nn.Module):\n",
        "\n",
        "    def __init__(self, input_size, hidden_dim, output_size):\n",
        "        super(Generator, self).__init__()\n",
        "        \n",
        "        # define hidden linear layers\n",
        "        self.fc1 = nn.Linear(input_size, hidden_dim)\n",
        "        self.fc2 = nn.Linear(hidden_dim, hidden_dim*2)\n",
        "        self.fc3 = nn.Linear(hidden_dim*2, hidden_dim*4)\n",
        "        \n",
        "        # final fully-connected layer\n",
        "        self.fc4 = nn.Linear(hidden_dim*4, output_size)\n",
        "        \n",
        "        # dropout layer \n",
        "        self.dropout = nn.Dropout(0.3)\n",
        "\n",
        "    def forward(self, x):\n",
        "        # all hidden layers\n",
        "        x = F.leaky_relu(self.fc1(x), 0.2) # (input, negative_slope=0.2)\n",
        "        x = self.dropout(x)\n",
        "        x = F.leaky_relu(self.fc2(x), 0.2)\n",
        "        x = self.dropout(x)\n",
        "        x = F.leaky_relu(self.fc3(x), 0.2)\n",
        "        x = self.dropout(x)\n",
        "        # final layer with tanh applied\n",
        "        out = F.tanh(self.fc4(x))\n",
        "\n",
        "        return out"
      ],
      "execution_count": 5,
      "outputs": []
    },
    {
      "cell_type": "markdown",
      "metadata": {
        "id": "dV3OfuBWLAnC"
      },
      "source": [
        "## Model hyperparameters"
      ]
    },
    {
      "cell_type": "code",
      "metadata": {
        "collapsed": true,
        "id": "jPH9XC18LAnC"
      },
      "source": [
        "# Discriminator hyperparams\n",
        "\n",
        "# Size of input image to discriminator (28*28)\n",
        "input_size = 784\n",
        "# Size of discriminator output (real or fake)\n",
        "d_output_size = 1\n",
        "# Size of last hidden layer in the discriminator\n",
        "d_hidden_size = 32\n",
        "\n",
        "# Generator hyperparams\n",
        "\n",
        "# Size of latent vector to give to generator\n",
        "z_size = 100\n",
        "# Size of discriminator output (generated image)\n",
        "g_output_size = 784\n",
        "# Size of first hidden layer in the generator\n",
        "g_hidden_size = 32"
      ],
      "execution_count": 6,
      "outputs": []
    },
    {
      "cell_type": "markdown",
      "metadata": {
        "id": "BSM89DYYLAnD"
      },
      "source": [
        "## Build complete network\n",
        "\n",
        "Now we're instantiating the discriminator and generator from the classes defined above. Make sure you've passed in the correct input arguments."
      ]
    },
    {
      "cell_type": "code",
      "metadata": {
        "colab": {
          "base_uri": "https://localhost:8080/"
        },
        "id": "Nm4ZtpvpLAnD",
        "outputId": "a2bd4b34-3a3e-4a68-9f8b-559ad9460c12"
      },
      "source": [
        "# instantiate discriminator and generator\n",
        "D = Discriminator(input_size, d_hidden_size, d_output_size)\n",
        "G = Generator(z_size, g_hidden_size, g_output_size)\n",
        "\n",
        "# check that they are as you expect\n",
        "print(D)\n",
        "print()\n",
        "print(G)"
      ],
      "execution_count": 7,
      "outputs": [
        {
          "output_type": "stream",
          "name": "stdout",
          "text": [
            "Discriminator(\n",
            "  (fc1): Linear(in_features=784, out_features=128, bias=True)\n",
            "  (fc2): Linear(in_features=128, out_features=64, bias=True)\n",
            "  (fc3): Linear(in_features=64, out_features=32, bias=True)\n",
            "  (fc4): Linear(in_features=32, out_features=1, bias=True)\n",
            "  (dropout): Dropout(p=0.3, inplace=False)\n",
            ")\n",
            "\n",
            "Generator(\n",
            "  (fc1): Linear(in_features=100, out_features=32, bias=True)\n",
            "  (fc2): Linear(in_features=32, out_features=64, bias=True)\n",
            "  (fc3): Linear(in_features=64, out_features=128, bias=True)\n",
            "  (fc4): Linear(in_features=128, out_features=784, bias=True)\n",
            "  (dropout): Dropout(p=0.3, inplace=False)\n",
            ")\n"
          ]
        }
      ]
    },
    {
      "cell_type": "markdown",
      "metadata": {
        "id": "OMdWDXbvLAnE"
      },
      "source": [
        "---\n",
        "## Discriminator and Generator Losses\n",
        "\n",
        "Now we need to calculate the losses. \n",
        "\n",
        "### Discriminator Losses\n",
        "\n",
        "> * For the discriminator, the total loss is the sum of the losses for real and fake images, `d_loss = d_real_loss + d_fake_loss`. \n",
        "* Remember that we want the discriminator to output 1 for real images and 0 for fake images, so we need to set up the losses to reflect that.\n",
        "\n",
        "<img src='assets/gan_pipeline.png' width=70% />\n",
        "\n",
        "The losses will by binary cross entropy loss with logits, which we can get with [BCEWithLogitsLoss](https://pytorch.org/docs/stable/nn.html#bcewithlogitsloss). This combines a `sigmoid` activation function **and** and binary cross entropy loss in one function.\n",
        "\n",
        "For the real images, we want `D(real_images) = 1`. That is, we want the discriminator to classify the the real images with a label = 1, indicating that these are real. To help the discriminator generalize better, the labels are **reduced a bit from 1.0 to 0.9**. For this, we'll use the parameter `smooth`; if True, then we should smooth our labels. In PyTorch, this looks like `labels = torch.ones(size) * 0.9`\n",
        "\n",
        "The discriminator loss for the fake data is similar. We want `D(fake_images) = 0`, where the fake images are the _generator output_, `fake_images = G(z)`. \n",
        "\n",
        "### Generator Loss\n",
        "\n",
        "The generator loss will look similar only with flipped labels. The generator's goal is to get `D(fake_images) = 1`. In this case, the labels are **flipped** to represent that the generator is trying to fool the discriminator into thinking that the images it generates (fakes) are real!"
      ]
    },
    {
      "cell_type": "code",
      "metadata": {
        "collapsed": true,
        "id": "fGMjtW5gLAnF"
      },
      "source": [
        "# Calculate losses\n",
        "def real_loss(D_out, smooth=False):\n",
        "    batch_size = D_out.size(0)\n",
        "    # label smoothing\n",
        "    if smooth:\n",
        "        # smooth, real labels = 0.9\n",
        "        labels = torch.ones(batch_size)*0.9\n",
        "    else:\n",
        "        labels = torch.ones(batch_size) # real labels = 1\n",
        "        \n",
        "    # numerically stable loss\n",
        "    criterion = nn.BCEWithLogitsLoss()\n",
        "    # calculate loss\n",
        "    loss = criterion(D_out.squeeze(), labels)\n",
        "    return loss\n",
        "\n",
        "def fake_loss(D_out):\n",
        "    batch_size = D_out.size(0)\n",
        "    labels = torch.zeros(batch_size) # fake labels = 0\n",
        "    criterion = nn.BCEWithLogitsLoss()\n",
        "    # calculate loss\n",
        "    loss = criterion(D_out.squeeze(), labels)\n",
        "    return loss"
      ],
      "execution_count": 8,
      "outputs": []
    },
    {
      "cell_type": "markdown",
      "metadata": {
        "id": "m1FAogxLLAnG"
      },
      "source": [
        "## Optimizers\n",
        "\n",
        "We want to update the generator and discriminator variables separately. So, we'll define two separate Adam optimizers."
      ]
    },
    {
      "cell_type": "code",
      "metadata": {
        "collapsed": true,
        "scrolled": true,
        "id": "2ywdGMUCLAnG"
      },
      "source": [
        "import torch.optim as optim\n",
        "\n",
        "# Optimizers\n",
        "lr = 0.002\n",
        "\n",
        "# Create optimizers for the discriminator and generator\n",
        "d_optimizer = optim.Adam(D.parameters(), lr)\n",
        "g_optimizer = optim.Adam(G.parameters(), lr)"
      ],
      "execution_count": 9,
      "outputs": []
    },
    {
      "cell_type": "markdown",
      "metadata": {
        "id": "kc25nyW5LAnI"
      },
      "source": [
        "---\n",
        "## Training\n",
        "\n",
        "Training will involve alternating between training the discriminator and the generator. We'll use our functions `real_loss` and `fake_loss` to help us calculate the discriminator losses in all of the following cases.\n",
        "\n",
        "### Discriminator training\n",
        "1. Compute the discriminator loss on real, training images        \n",
        "2. Generate fake images\n",
        "3. Compute the discriminator loss on fake, generated images     \n",
        "4. Add up real and fake loss\n",
        "5. Perform backpropagation + an optimization step to update the discriminator's weights\n",
        "\n",
        "### Generator training\n",
        "1. Generate fake images\n",
        "2. Compute the discriminator loss on fake images, using **flipped** labels!\n",
        "3. Perform backpropagation + an optimization step to update the generator's weights\n",
        "\n",
        "#### Saving Samples\n",
        "\n",
        "As we train, we'll also print out some loss statistics and save some generated \"fake\" samples."
      ]
    },
    {
      "cell_type": "code",
      "metadata": {
        "scrolled": true,
        "colab": {
          "base_uri": "https://localhost:8080/"
        },
        "id": "q3a-4vXuLAnI",
        "outputId": "0e4f3846-81e7-4bbf-c313-8e5672acffa4"
      },
      "source": [
        "import pickle as pkl\n",
        "\n",
        "# training hyperparams\n",
        "num_epochs = 100\n",
        "\n",
        "# keep track of loss and generated, \"fake\" samples\n",
        "samples = []\n",
        "losses = []\n",
        "\n",
        "print_every = 400\n",
        "\n",
        "# Get some fixed data for sampling. These are images that are held\n",
        "# constant throughout training, and allow us to inspect the model's performance\n",
        "sample_size=16\n",
        "fixed_z = np.random.uniform(-1, 1, size=(sample_size, z_size))\n",
        "fixed_z = torch.from_numpy(fixed_z).float()\n",
        "\n",
        "# train the network\n",
        "D.train()\n",
        "G.train()\n",
        "for epoch in range(num_epochs):\n",
        "    \n",
        "    for batch_i, (real_images, _) in enumerate(train_loader):\n",
        "                \n",
        "        batch_size = real_images.size(0)\n",
        "        \n",
        "        ## Important rescaling step ## \n",
        "        real_images = real_images*2 - 1  # rescale input images from [0,1) to [-1, 1)\n",
        "        \n",
        "        # ============================================\n",
        "        #            TRAIN THE DISCRIMINATOR\n",
        "        # ============================================\n",
        "        \n",
        "        d_optimizer.zero_grad()\n",
        "        \n",
        "        # 1. Train with real images\n",
        "\n",
        "        # Compute the discriminator losses on real images \n",
        "        # smooth the real labels\n",
        "        D_real = D(real_images)\n",
        "        d_real_loss = real_loss(D_real, smooth=True)\n",
        "        \n",
        "        # 2. Train with fake images\n",
        "        \n",
        "        # Generate fake images\n",
        "        # gradients don't have to flow during this step\n",
        "        with torch.no_grad():\n",
        "            z = np.random.uniform(-1, 1, size=(batch_size, z_size))\n",
        "            z = torch.from_numpy(z).float()\n",
        "            fake_images = G(z)\n",
        "        \n",
        "        # Compute the discriminator losses on fake images        \n",
        "        D_fake = D(fake_images)\n",
        "        d_fake_loss = fake_loss(D_fake)\n",
        "        \n",
        "        # add up loss and perform backprop\n",
        "        d_loss = d_real_loss + d_fake_loss\n",
        "        d_loss.backward()\n",
        "        d_optimizer.step()\n",
        "        \n",
        "        \n",
        "        # =========================================\n",
        "        #            TRAIN THE GENERATOR\n",
        "        # =========================================\n",
        "        g_optimizer.zero_grad()\n",
        "        \n",
        "        # 1. Train with fake images and flipped labels\n",
        "        \n",
        "        # Generate fake images\n",
        "        z = np.random.uniform(-1, 1, size=(batch_size, z_size))\n",
        "        z = torch.from_numpy(z).float()\n",
        "        fake_images = G(z)\n",
        "        \n",
        "        # Compute the discriminator losses on fake images \n",
        "        # using flipped labels!\n",
        "        D_fake = D(fake_images)\n",
        "        g_loss = real_loss(D_fake) # use real loss to flip labels\n",
        "        \n",
        "        # perform backprop\n",
        "        g_loss.backward()\n",
        "        g_optimizer.step()\n",
        "\n",
        "        # Print some loss stats\n",
        "        if batch_i % print_every == 0:\n",
        "            # print discriminator and generator loss\n",
        "            print('Epoch [{:5d}/{:5d}] | d_loss: {:6.4f} | g_loss: {:6.4f}'.format(\n",
        "                    epoch+1, num_epochs, d_loss.item(), g_loss.item()))\n",
        "\n",
        "    \n",
        "    ## AFTER EACH EPOCH##\n",
        "    # append discriminator loss and generator loss\n",
        "    losses.append((d_loss.item(), g_loss.item()))\n",
        "    \n",
        "    # generate and save sample, fake images\n",
        "    G.eval() # eval mode for generating samples\n",
        "    samples_z = G(fixed_z)\n",
        "    samples.append(samples_z)\n",
        "    G.train() # back to train mode\n",
        "\n",
        "\n",
        "# Save training generator samples\n",
        "with open('train_samples.pkl', 'wb') as f:\n",
        "    pkl.dump(samples, f)"
      ],
      "execution_count": 10,
      "outputs": [
        {
          "output_type": "stream",
          "name": "stderr",
          "text": [
            "/usr/local/lib/python3.7/dist-packages/torch/nn/functional.py:1794: UserWarning: nn.functional.tanh is deprecated. Use torch.tanh instead.\n",
            "  warnings.warn(\"nn.functional.tanh is deprecated. Use torch.tanh instead.\")\n"
          ]
        },
        {
          "output_type": "stream",
          "name": "stdout",
          "text": [
            "Epoch [    1/  100] | d_loss: 1.3657 | g_loss: 0.7099\n",
            "Epoch [    1/  100] | d_loss: 0.6068 | g_loss: 5.3157\n",
            "Epoch [    1/  100] | d_loss: 1.3353 | g_loss: 0.8367\n",
            "Epoch [    2/  100] | d_loss: 1.5762 | g_loss: 0.4977\n",
            "Epoch [    2/  100] | d_loss: 1.4630 | g_loss: 1.4102\n",
            "Epoch [    2/  100] | d_loss: 1.0278 | g_loss: 1.4467\n",
            "Epoch [    3/  100] | d_loss: 1.5312 | g_loss: 0.8931\n",
            "Epoch [    3/  100] | d_loss: 0.9639 | g_loss: 4.5469\n",
            "Epoch [    3/  100] | d_loss: 1.0828 | g_loss: 1.8594\n",
            "Epoch [    4/  100] | d_loss: 1.1236 | g_loss: 1.3051\n",
            "Epoch [    4/  100] | d_loss: 1.0107 | g_loss: 1.5034\n",
            "Epoch [    4/  100] | d_loss: 1.1625 | g_loss: 1.1212\n",
            "Epoch [    5/  100] | d_loss: 1.1404 | g_loss: 1.1737\n",
            "Epoch [    5/  100] | d_loss: 1.0597 | g_loss: 1.5555\n",
            "Epoch [    5/  100] | d_loss: 1.1721 | g_loss: 1.0044\n",
            "Epoch [    6/  100] | d_loss: 1.1978 | g_loss: 1.0775\n",
            "Epoch [    6/  100] | d_loss: 1.0937 | g_loss: 1.3260\n",
            "Epoch [    6/  100] | d_loss: 1.2226 | g_loss: 1.9561\n",
            "Epoch [    7/  100] | d_loss: 0.9958 | g_loss: 3.9090\n",
            "Epoch [    7/  100] | d_loss: 1.3081 | g_loss: 1.1954\n",
            "Epoch [    7/  100] | d_loss: 1.1443 | g_loss: 1.3537\n",
            "Epoch [    8/  100] | d_loss: 1.6242 | g_loss: 1.9032\n",
            "Epoch [    8/  100] | d_loss: 1.2616 | g_loss: 1.0355\n",
            "Epoch [    8/  100] | d_loss: 1.3115 | g_loss: 1.0592\n",
            "Epoch [    9/  100] | d_loss: 1.2200 | g_loss: 1.2582\n",
            "Epoch [    9/  100] | d_loss: 1.1439 | g_loss: 1.1424\n",
            "Epoch [    9/  100] | d_loss: 1.1456 | g_loss: 1.6081\n",
            "Epoch [   10/  100] | d_loss: 1.3273 | g_loss: 0.8424\n",
            "Epoch [   10/  100] | d_loss: 1.2791 | g_loss: 1.0185\n",
            "Epoch [   10/  100] | d_loss: 1.3102 | g_loss: 0.9528\n",
            "Epoch [   11/  100] | d_loss: 1.2142 | g_loss: 0.9960\n",
            "Epoch [   11/  100] | d_loss: 1.2165 | g_loss: 1.4059\n",
            "Epoch [   11/  100] | d_loss: 1.2569 | g_loss: 1.4584\n",
            "Epoch [   12/  100] | d_loss: 1.3305 | g_loss: 0.9329\n",
            "Epoch [   12/  100] | d_loss: 1.2144 | g_loss: 1.1113\n",
            "Epoch [   12/  100] | d_loss: 1.2614 | g_loss: 1.0450\n",
            "Epoch [   13/  100] | d_loss: 1.2943 | g_loss: 0.9936\n",
            "Epoch [   13/  100] | d_loss: 1.2871 | g_loss: 0.9011\n",
            "Epoch [   13/  100] | d_loss: 1.3035 | g_loss: 1.1917\n",
            "Epoch [   14/  100] | d_loss: 1.2759 | g_loss: 0.9392\n",
            "Epoch [   14/  100] | d_loss: 1.3256 | g_loss: 0.9379\n",
            "Epoch [   14/  100] | d_loss: 1.2795 | g_loss: 0.9554\n",
            "Epoch [   15/  100] | d_loss: 1.2582 | g_loss: 1.0523\n",
            "Epoch [   15/  100] | d_loss: 1.2722 | g_loss: 1.0839\n",
            "Epoch [   15/  100] | d_loss: 1.4014 | g_loss: 0.9120\n",
            "Epoch [   16/  100] | d_loss: 1.3619 | g_loss: 1.0163\n",
            "Epoch [   16/  100] | d_loss: 1.3079 | g_loss: 0.9829\n",
            "Epoch [   16/  100] | d_loss: 1.3640 | g_loss: 0.8592\n",
            "Epoch [   17/  100] | d_loss: 1.2869 | g_loss: 0.8529\n",
            "Epoch [   17/  100] | d_loss: 1.2405 | g_loss: 1.1057\n",
            "Epoch [   17/  100] | d_loss: 1.3128 | g_loss: 0.9030\n",
            "Epoch [   18/  100] | d_loss: 1.2806 | g_loss: 0.9013\n",
            "Epoch [   18/  100] | d_loss: 1.2900 | g_loss: 0.9149\n",
            "Epoch [   18/  100] | d_loss: 1.2946 | g_loss: 1.1777\n",
            "Epoch [   19/  100] | d_loss: 1.2977 | g_loss: 0.9280\n",
            "Epoch [   19/  100] | d_loss: 1.3889 | g_loss: 0.8659\n",
            "Epoch [   19/  100] | d_loss: 1.2794 | g_loss: 1.0123\n",
            "Epoch [   20/  100] | d_loss: 1.3384 | g_loss: 1.0443\n",
            "Epoch [   20/  100] | d_loss: 1.1984 | g_loss: 1.1627\n",
            "Epoch [   20/  100] | d_loss: 1.3894 | g_loss: 1.1412\n",
            "Epoch [   21/  100] | d_loss: 1.2829 | g_loss: 0.9124\n",
            "Epoch [   21/  100] | d_loss: 1.2108 | g_loss: 1.1211\n",
            "Epoch [   21/  100] | d_loss: 1.3461 | g_loss: 0.8448\n",
            "Epoch [   22/  100] | d_loss: 1.3046 | g_loss: 0.9286\n",
            "Epoch [   22/  100] | d_loss: 1.1896 | g_loss: 1.1690\n",
            "Epoch [   22/  100] | d_loss: 1.2577 | g_loss: 0.9947\n",
            "Epoch [   23/  100] | d_loss: 1.3067 | g_loss: 0.9176\n",
            "Epoch [   23/  100] | d_loss: 1.2699 | g_loss: 1.0781\n",
            "Epoch [   23/  100] | d_loss: 1.2458 | g_loss: 1.6951\n",
            "Epoch [   24/  100] | d_loss: 1.1279 | g_loss: 1.7321\n",
            "Epoch [   24/  100] | d_loss: 1.2638 | g_loss: 1.0448\n",
            "Epoch [   24/  100] | d_loss: 1.4695 | g_loss: 0.8608\n",
            "Epoch [   25/  100] | d_loss: 1.2758 | g_loss: 1.4238\n",
            "Epoch [   25/  100] | d_loss: 1.3375 | g_loss: 1.0564\n",
            "Epoch [   25/  100] | d_loss: 1.4181 | g_loss: 0.9448\n",
            "Epoch [   26/  100] | d_loss: 1.2609 | g_loss: 1.1859\n",
            "Epoch [   26/  100] | d_loss: 1.3095 | g_loss: 0.9425\n",
            "Epoch [   26/  100] | d_loss: 1.3615 | g_loss: 0.9421\n",
            "Epoch [   27/  100] | d_loss: 1.3114 | g_loss: 0.9603\n",
            "Epoch [   27/  100] | d_loss: 1.2511 | g_loss: 0.9479\n",
            "Epoch [   27/  100] | d_loss: 1.2961 | g_loss: 0.8876\n",
            "Epoch [   28/  100] | d_loss: 1.2881 | g_loss: 0.7947\n",
            "Epoch [   28/  100] | d_loss: 1.2532 | g_loss: 1.0534\n",
            "Epoch [   28/  100] | d_loss: 1.3377 | g_loss: 0.8821\n",
            "Epoch [   29/  100] | d_loss: 1.3311 | g_loss: 0.9737\n",
            "Epoch [   29/  100] | d_loss: 1.2525 | g_loss: 1.2038\n",
            "Epoch [   29/  100] | d_loss: 1.3118 | g_loss: 0.8602\n",
            "Epoch [   30/  100] | d_loss: 1.3121 | g_loss: 0.9064\n",
            "Epoch [   30/  100] | d_loss: 1.2042 | g_loss: 1.0338\n",
            "Epoch [   30/  100] | d_loss: 1.4814 | g_loss: 0.9399\n",
            "Epoch [   31/  100] | d_loss: 1.3932 | g_loss: 1.0713\n",
            "Epoch [   31/  100] | d_loss: 1.2827 | g_loss: 0.9053\n",
            "Epoch [   31/  100] | d_loss: 1.3667 | g_loss: 0.9295\n",
            "Epoch [   32/  100] | d_loss: 1.3386 | g_loss: 0.9158\n",
            "Epoch [   32/  100] | d_loss: 1.3242 | g_loss: 0.8713\n",
            "Epoch [   32/  100] | d_loss: 1.3492 | g_loss: 0.8421\n",
            "Epoch [   33/  100] | d_loss: 1.2862 | g_loss: 1.1000\n",
            "Epoch [   33/  100] | d_loss: 1.2390 | g_loss: 0.9891\n",
            "Epoch [   33/  100] | d_loss: 1.3967 | g_loss: 0.9237\n",
            "Epoch [   34/  100] | d_loss: 1.3599 | g_loss: 1.5330\n",
            "Epoch [   34/  100] | d_loss: 1.1874 | g_loss: 1.3653\n",
            "Epoch [   34/  100] | d_loss: 1.1613 | g_loss: 1.3756\n",
            "Epoch [   35/  100] | d_loss: 1.3180 | g_loss: 0.9313\n",
            "Epoch [   35/  100] | d_loss: 1.2150 | g_loss: 0.9912\n",
            "Epoch [   35/  100] | d_loss: 1.3337 | g_loss: 1.5758\n",
            "Epoch [   36/  100] | d_loss: 1.2437 | g_loss: 0.9934\n",
            "Epoch [   36/  100] | d_loss: 1.3503 | g_loss: 1.0429\n",
            "Epoch [   36/  100] | d_loss: 1.2968 | g_loss: 1.0205\n",
            "Epoch [   37/  100] | d_loss: 1.3958 | g_loss: 1.1280\n",
            "Epoch [   37/  100] | d_loss: 1.2807 | g_loss: 1.2419\n",
            "Epoch [   37/  100] | d_loss: 1.3714 | g_loss: 0.9473\n",
            "Epoch [   38/  100] | d_loss: 1.2030 | g_loss: 1.0593\n",
            "Epoch [   38/  100] | d_loss: 1.2429 | g_loss: 0.9458\n",
            "Epoch [   38/  100] | d_loss: 1.3596 | g_loss: 0.9223\n",
            "Epoch [   39/  100] | d_loss: 1.3613 | g_loss: 0.8605\n",
            "Epoch [   39/  100] | d_loss: 1.3144 | g_loss: 0.8485\n",
            "Epoch [   39/  100] | d_loss: 1.2852 | g_loss: 0.7939\n",
            "Epoch [   40/  100] | d_loss: 1.3139 | g_loss: 1.0021\n",
            "Epoch [   40/  100] | d_loss: 1.3015 | g_loss: 0.8416\n",
            "Epoch [   40/  100] | d_loss: 1.3736 | g_loss: 0.9254\n",
            "Epoch [   41/  100] | d_loss: 1.3000 | g_loss: 1.2254\n",
            "Epoch [   41/  100] | d_loss: 1.1637 | g_loss: 1.0704\n",
            "Epoch [   41/  100] | d_loss: 1.3921 | g_loss: 0.9650\n",
            "Epoch [   42/  100] | d_loss: 1.3715 | g_loss: 1.0219\n",
            "Epoch [   42/  100] | d_loss: 1.2952 | g_loss: 0.9966\n",
            "Epoch [   42/  100] | d_loss: 1.2954 | g_loss: 1.0912\n",
            "Epoch [   43/  100] | d_loss: 1.3427 | g_loss: 0.8571\n",
            "Epoch [   43/  100] | d_loss: 1.2738 | g_loss: 0.9969\n",
            "Epoch [   43/  100] | d_loss: 1.4011 | g_loss: 1.0395\n",
            "Epoch [   44/  100] | d_loss: 1.3162 | g_loss: 0.9570\n",
            "Epoch [   44/  100] | d_loss: 1.3390 | g_loss: 0.9763\n",
            "Epoch [   44/  100] | d_loss: 1.3814 | g_loss: 0.7981\n",
            "Epoch [   45/  100] | d_loss: 1.3779 | g_loss: 0.8923\n",
            "Epoch [   45/  100] | d_loss: 1.3057 | g_loss: 0.9579\n",
            "Epoch [   45/  100] | d_loss: 1.5518 | g_loss: 0.9540\n",
            "Epoch [   46/  100] | d_loss: 1.3132 | g_loss: 1.0468\n",
            "Epoch [   46/  100] | d_loss: 1.2749 | g_loss: 0.9054\n",
            "Epoch [   46/  100] | d_loss: 1.3786 | g_loss: 0.8942\n",
            "Epoch [   47/  100] | d_loss: 1.2280 | g_loss: 1.1657\n",
            "Epoch [   47/  100] | d_loss: 1.3118 | g_loss: 0.9268\n",
            "Epoch [   47/  100] | d_loss: 1.3208 | g_loss: 1.0212\n",
            "Epoch [   48/  100] | d_loss: 1.2558 | g_loss: 1.1499\n",
            "Epoch [   48/  100] | d_loss: 1.2732 | g_loss: 1.1439\n",
            "Epoch [   48/  100] | d_loss: 1.4217 | g_loss: 0.7779\n",
            "Epoch [   49/  100] | d_loss: 1.1506 | g_loss: 1.1309\n",
            "Epoch [   49/  100] | d_loss: 1.2729 | g_loss: 0.9932\n",
            "Epoch [   49/  100] | d_loss: 1.3430 | g_loss: 0.9850\n",
            "Epoch [   50/  100] | d_loss: 1.3421 | g_loss: 0.7912\n",
            "Epoch [   50/  100] | d_loss: 1.2620 | g_loss: 0.9354\n",
            "Epoch [   50/  100] | d_loss: 1.3107 | g_loss: 0.8788\n",
            "Epoch [   51/  100] | d_loss: 1.3061 | g_loss: 1.2676\n",
            "Epoch [   51/  100] | d_loss: 1.2818 | g_loss: 1.0912\n",
            "Epoch [   51/  100] | d_loss: 1.3102 | g_loss: 0.9690\n",
            "Epoch [   52/  100] | d_loss: 1.3038 | g_loss: 1.0390\n",
            "Epoch [   52/  100] | d_loss: 1.2968 | g_loss: 0.7611\n",
            "Epoch [   52/  100] | d_loss: 1.3505 | g_loss: 0.8963\n",
            "Epoch [   53/  100] | d_loss: 1.3321 | g_loss: 0.9757\n",
            "Epoch [   53/  100] | d_loss: 1.4037 | g_loss: 0.8159\n",
            "Epoch [   53/  100] | d_loss: 1.3451 | g_loss: 0.9845\n",
            "Epoch [   54/  100] | d_loss: 1.3653 | g_loss: 0.9608\n",
            "Epoch [   54/  100] | d_loss: 1.3243 | g_loss: 0.8974\n",
            "Epoch [   54/  100] | d_loss: 1.3271 | g_loss: 1.0050\n",
            "Epoch [   55/  100] | d_loss: 1.3108 | g_loss: 0.7938\n",
            "Epoch [   55/  100] | d_loss: 1.2931 | g_loss: 0.8551\n",
            "Epoch [   55/  100] | d_loss: 1.3578 | g_loss: 0.8242\n",
            "Epoch [   56/  100] | d_loss: 1.4141 | g_loss: 1.0621\n",
            "Epoch [   56/  100] | d_loss: 1.3239 | g_loss: 0.8500\n",
            "Epoch [   56/  100] | d_loss: 1.3964 | g_loss: 0.9708\n",
            "Epoch [   57/  100] | d_loss: 1.3658 | g_loss: 0.9705\n",
            "Epoch [   57/  100] | d_loss: 1.2845 | g_loss: 0.8837\n",
            "Epoch [   57/  100] | d_loss: 1.2874 | g_loss: 1.1298\n",
            "Epoch [   58/  100] | d_loss: 1.3466 | g_loss: 0.9425\n",
            "Epoch [   58/  100] | d_loss: 1.2695 | g_loss: 0.8826\n",
            "Epoch [   58/  100] | d_loss: 1.2467 | g_loss: 1.0145\n",
            "Epoch [   59/  100] | d_loss: 1.3649 | g_loss: 0.8344\n",
            "Epoch [   59/  100] | d_loss: 1.3025 | g_loss: 1.0763\n",
            "Epoch [   59/  100] | d_loss: 1.3959 | g_loss: 0.9741\n",
            "Epoch [   60/  100] | d_loss: 1.2872 | g_loss: 0.9160\n",
            "Epoch [   60/  100] | d_loss: 1.3819 | g_loss: 0.9648\n",
            "Epoch [   60/  100] | d_loss: 1.3785 | g_loss: 0.9365\n",
            "Epoch [   61/  100] | d_loss: 1.3026 | g_loss: 0.9142\n",
            "Epoch [   61/  100] | d_loss: 1.2847 | g_loss: 1.0636\n",
            "Epoch [   61/  100] | d_loss: 1.4263 | g_loss: 0.9551\n",
            "Epoch [   62/  100] | d_loss: 1.2439 | g_loss: 0.9900\n",
            "Epoch [   62/  100] | d_loss: 1.3113 | g_loss: 0.9939\n",
            "Epoch [   62/  100] | d_loss: 1.4108 | g_loss: 0.8071\n",
            "Epoch [   63/  100] | d_loss: 1.2921 | g_loss: 0.8007\n",
            "Epoch [   63/  100] | d_loss: 1.3214 | g_loss: 0.9042\n",
            "Epoch [   63/  100] | d_loss: 1.4424 | g_loss: 1.0637\n",
            "Epoch [   64/  100] | d_loss: 1.3709 | g_loss: 0.9956\n",
            "Epoch [   64/  100] | d_loss: 1.2843 | g_loss: 0.8526\n",
            "Epoch [   64/  100] | d_loss: 1.3571 | g_loss: 0.9553\n",
            "Epoch [   65/  100] | d_loss: 1.2797 | g_loss: 0.9746\n",
            "Epoch [   65/  100] | d_loss: 1.3003 | g_loss: 0.8808\n",
            "Epoch [   65/  100] | d_loss: 1.2872 | g_loss: 1.0388\n",
            "Epoch [   66/  100] | d_loss: 1.2529 | g_loss: 0.9743\n",
            "Epoch [   66/  100] | d_loss: 1.3250 | g_loss: 1.0069\n",
            "Epoch [   66/  100] | d_loss: 1.3158 | g_loss: 0.9427\n",
            "Epoch [   67/  100] | d_loss: 1.2906 | g_loss: 1.1300\n",
            "Epoch [   67/  100] | d_loss: 1.3557 | g_loss: 0.9898\n",
            "Epoch [   67/  100] | d_loss: 1.2857 | g_loss: 0.9873\n",
            "Epoch [   68/  100] | d_loss: 1.3452 | g_loss: 0.9139\n",
            "Epoch [   68/  100] | d_loss: 1.3184 | g_loss: 1.2292\n",
            "Epoch [   68/  100] | d_loss: 1.3777 | g_loss: 0.9686\n",
            "Epoch [   69/  100] | d_loss: 1.2831 | g_loss: 0.9782\n",
            "Epoch [   69/  100] | d_loss: 1.3277 | g_loss: 0.9802\n",
            "Epoch [   69/  100] | d_loss: 1.4086 | g_loss: 1.0067\n",
            "Epoch [   70/  100] | d_loss: 1.3200 | g_loss: 0.8437\n",
            "Epoch [   70/  100] | d_loss: 1.3085 | g_loss: 1.1990\n",
            "Epoch [   70/  100] | d_loss: 1.4620 | g_loss: 0.8408\n",
            "Epoch [   71/  100] | d_loss: 1.3188 | g_loss: 0.9011\n",
            "Epoch [   71/  100] | d_loss: 1.2834 | g_loss: 1.0510\n",
            "Epoch [   71/  100] | d_loss: 1.3679 | g_loss: 0.9808\n",
            "Epoch [   72/  100] | d_loss: 1.3652 | g_loss: 1.0235\n",
            "Epoch [   72/  100] | d_loss: 1.3418 | g_loss: 0.9379\n",
            "Epoch [   72/  100] | d_loss: 1.3526 | g_loss: 0.8840\n",
            "Epoch [   73/  100] | d_loss: 1.3775 | g_loss: 0.9665\n",
            "Epoch [   73/  100] | d_loss: 1.2940 | g_loss: 0.8625\n",
            "Epoch [   73/  100] | d_loss: 1.3413 | g_loss: 0.9529\n",
            "Epoch [   74/  100] | d_loss: 1.3151 | g_loss: 1.2129\n",
            "Epoch [   74/  100] | d_loss: 1.2157 | g_loss: 1.0127\n",
            "Epoch [   74/  100] | d_loss: 1.3375 | g_loss: 0.9515\n",
            "Epoch [   75/  100] | d_loss: 1.3048 | g_loss: 0.7994\n",
            "Epoch [   75/  100] | d_loss: 1.2496 | g_loss: 1.0869\n",
            "Epoch [   75/  100] | d_loss: 1.3761 | g_loss: 0.9245\n",
            "Epoch [   76/  100] | d_loss: 1.2692 | g_loss: 0.9561\n",
            "Epoch [   76/  100] | d_loss: 1.2752 | g_loss: 0.9364\n",
            "Epoch [   76/  100] | d_loss: 1.4505 | g_loss: 0.7957\n",
            "Epoch [   77/  100] | d_loss: 1.3695 | g_loss: 1.1888\n",
            "Epoch [   77/  100] | d_loss: 1.2180 | g_loss: 1.1856\n",
            "Epoch [   77/  100] | d_loss: 1.3095 | g_loss: 0.9670\n",
            "Epoch [   78/  100] | d_loss: 1.1518 | g_loss: 1.4679\n",
            "Epoch [   78/  100] | d_loss: 1.2468 | g_loss: 0.8803\n",
            "Epoch [   78/  100] | d_loss: 1.3350 | g_loss: 0.9656\n",
            "Epoch [   79/  100] | d_loss: 1.2940 | g_loss: 0.8589\n",
            "Epoch [   79/  100] | d_loss: 1.2130 | g_loss: 1.0188\n",
            "Epoch [   79/  100] | d_loss: 1.4088 | g_loss: 0.9729\n",
            "Epoch [   80/  100] | d_loss: 1.3962 | g_loss: 0.8790\n",
            "Epoch [   80/  100] | d_loss: 1.3083 | g_loss: 0.9567\n",
            "Epoch [   80/  100] | d_loss: 1.3503 | g_loss: 0.8690\n",
            "Epoch [   81/  100] | d_loss: 1.3142 | g_loss: 1.1938\n",
            "Epoch [   81/  100] | d_loss: 1.2387 | g_loss: 0.8885\n",
            "Epoch [   81/  100] | d_loss: 1.4310 | g_loss: 1.0805\n",
            "Epoch [   82/  100] | d_loss: 1.2664 | g_loss: 1.0437\n",
            "Epoch [   82/  100] | d_loss: 1.2924 | g_loss: 1.6079\n",
            "Epoch [   82/  100] | d_loss: 1.4024 | g_loss: 0.9189\n",
            "Epoch [   83/  100] | d_loss: 1.3169 | g_loss: 0.9525\n",
            "Epoch [   83/  100] | d_loss: 1.2446 | g_loss: 0.9492\n",
            "Epoch [   83/  100] | d_loss: 1.3120 | g_loss: 1.0332\n",
            "Epoch [   84/  100] | d_loss: 1.3990 | g_loss: 0.8862\n",
            "Epoch [   84/  100] | d_loss: 1.3197 | g_loss: 1.0246\n",
            "Epoch [   84/  100] | d_loss: 1.3119 | g_loss: 0.8860\n",
            "Epoch [   85/  100] | d_loss: 1.3379 | g_loss: 0.8269\n",
            "Epoch [   85/  100] | d_loss: 1.2552 | g_loss: 0.9946\n",
            "Epoch [   85/  100] | d_loss: 1.3190 | g_loss: 0.8650\n",
            "Epoch [   86/  100] | d_loss: 1.2777 | g_loss: 0.9589\n",
            "Epoch [   86/  100] | d_loss: 1.2412 | g_loss: 1.2085\n",
            "Epoch [   86/  100] | d_loss: 1.2352 | g_loss: 0.8908\n",
            "Epoch [   87/  100] | d_loss: 1.2367 | g_loss: 1.0368\n",
            "Epoch [   87/  100] | d_loss: 1.2166 | g_loss: 0.8796\n",
            "Epoch [   87/  100] | d_loss: 1.3661 | g_loss: 1.0455\n",
            "Epoch [   88/  100] | d_loss: 1.3594 | g_loss: 1.0803\n",
            "Epoch [   88/  100] | d_loss: 1.2804 | g_loss: 1.0013\n",
            "Epoch [   88/  100] | d_loss: 1.3010 | g_loss: 0.8907\n",
            "Epoch [   89/  100] | d_loss: 1.3198 | g_loss: 0.7794\n",
            "Epoch [   89/  100] | d_loss: 1.2800 | g_loss: 0.9472\n",
            "Epoch [   89/  100] | d_loss: 1.4670 | g_loss: 0.8573\n",
            "Epoch [   90/  100] | d_loss: 1.2810 | g_loss: 1.3072\n",
            "Epoch [   90/  100] | d_loss: 1.2509 | g_loss: 1.1250\n",
            "Epoch [   90/  100] | d_loss: 1.3165 | g_loss: 1.1111\n",
            "Epoch [   91/  100] | d_loss: 1.2867 | g_loss: 1.3489\n",
            "Epoch [   91/  100] | d_loss: 1.3453 | g_loss: 1.0235\n",
            "Epoch [   91/  100] | d_loss: 1.3823 | g_loss: 1.1601\n",
            "Epoch [   92/  100] | d_loss: 1.2627 | g_loss: 0.8513\n",
            "Epoch [   92/  100] | d_loss: 1.2560 | g_loss: 0.9969\n",
            "Epoch [   92/  100] | d_loss: 1.3581 | g_loss: 0.9807\n",
            "Epoch [   93/  100] | d_loss: 1.3300 | g_loss: 0.8902\n",
            "Epoch [   93/  100] | d_loss: 1.3104 | g_loss: 1.3099\n",
            "Epoch [   93/  100] | d_loss: 1.2991 | g_loss: 0.8601\n",
            "Epoch [   94/  100] | d_loss: 1.2473 | g_loss: 1.2148\n",
            "Epoch [   94/  100] | d_loss: 1.1824 | g_loss: 1.2653\n",
            "Epoch [   94/  100] | d_loss: 1.3224 | g_loss: 1.0418\n",
            "Epoch [   95/  100] | d_loss: 1.2812 | g_loss: 1.0179\n",
            "Epoch [   95/  100] | d_loss: 1.3134 | g_loss: 0.8855\n",
            "Epoch [   95/  100] | d_loss: 1.3657 | g_loss: 0.9829\n",
            "Epoch [   96/  100] | d_loss: 1.2641 | g_loss: 1.2330\n",
            "Epoch [   96/  100] | d_loss: 1.2337 | g_loss: 0.9285\n",
            "Epoch [   96/  100] | d_loss: 1.4955 | g_loss: 0.9483\n",
            "Epoch [   97/  100] | d_loss: 1.5431 | g_loss: 0.9877\n",
            "Epoch [   97/  100] | d_loss: 1.2859 | g_loss: 0.9599\n",
            "Epoch [   97/  100] | d_loss: 1.2759 | g_loss: 1.0358\n",
            "Epoch [   98/  100] | d_loss: 1.2745 | g_loss: 0.9752\n",
            "Epoch [   98/  100] | d_loss: 1.2653 | g_loss: 1.0195\n",
            "Epoch [   98/  100] | d_loss: 1.3715 | g_loss: 1.0573\n",
            "Epoch [   99/  100] | d_loss: 1.2978 | g_loss: 0.9448\n",
            "Epoch [   99/  100] | d_loss: 1.3495 | g_loss: 1.0099\n",
            "Epoch [   99/  100] | d_loss: 1.3447 | g_loss: 1.0075\n",
            "Epoch [  100/  100] | d_loss: 1.3750 | g_loss: 1.1371\n",
            "Epoch [  100/  100] | d_loss: 1.2240 | g_loss: 0.9771\n",
            "Epoch [  100/  100] | d_loss: 1.4472 | g_loss: 0.9954\n"
          ]
        }
      ]
    },
    {
      "cell_type": "markdown",
      "metadata": {
        "id": "5wZlQSC-LAnJ"
      },
      "source": [
        "## Training loss\n",
        "\n",
        "Here we'll plot the training losses for the generator and discriminator, recorded after each epoch."
      ]
    },
    {
      "cell_type": "code",
      "metadata": {
        "colab": {
          "base_uri": "https://localhost:8080/",
          "height": 298
        },
        "id": "oYrNm3WALAnJ",
        "outputId": "354d179f-6549-418a-9ac4-e2feff572def"
      },
      "source": [
        "fig, ax = plt.subplots()\n",
        "losses = np.array(losses)\n",
        "plt.plot(losses.T[0], label='Discriminator')\n",
        "plt.plot(losses.T[1], label='Generator')\n",
        "plt.title(\"Training Losses\")\n",
        "plt.legend()"
      ],
      "execution_count": 11,
      "outputs": [
        {
          "output_type": "execute_result",
          "data": {
            "text/plain": [
              "<matplotlib.legend.Legend at 0x7f879ed2fcd0>"
            ]
          },
          "metadata": {},
          "execution_count": 11
        },
        {
          "output_type": "display_data",
          "data": {
            "image/png": "[encoded data removed]",
            "text/plain": [
              "<Figure size 432x288 with 1 Axes>"
            ]
          },
          "metadata": {
            "needs_background": "light"
          }
        }
      ]
    },
    {
      "cell_type": "markdown",
      "metadata": {
        "id": "xCuRIINWLAnK"
      },
      "source": [
        "## Generator samples from training\n",
        "\n",
        "Here we can view samples of images from the generator. First we'll look at the images we saved during training."
      ]
    },
    {
      "cell_type": "code",
      "metadata": {
        "collapsed": true,
        "id": "sLJ5qMfCLAnK"
      },
      "source": [
        "# helper function for viewing a list of passed in sample images\n",
        "def view_samples(epoch, samples):\n",
        "    fig, axes = plt.subplots(figsize=(7,7), nrows=4, ncols=4, sharey=True, sharex=True)\n",
        "    for ax, img in zip(axes.flatten(), samples[epoch]):\n",
        "        img = img.detach()\n",
        "        ax.xaxis.set_visible(False)\n",
        "        ax.yaxis.set_visible(False)\n",
        "        im = ax.imshow(img.reshape((28,28)), cmap='Greys_r')"
      ],
      "execution_count": 12,
      "outputs": []
    },
    {
      "cell_type": "code",
      "metadata": {
        "collapsed": true,
        "id": "aF5yP53bLAnL"
      },
      "source": [
        "# Load samples from generator, taken while training\n",
        "with open('train_samples.pkl', 'rb') as f:\n",
        "    samples = pkl.load(f)"
      ],
      "execution_count": 13,
      "outputs": []
    },
    {
      "cell_type": "markdown",
      "metadata": {
        "id": "nxTPxPYnLAnL"
      },
      "source": [
        "These are samples from the final training epoch. You can see the generator is able to reproduce numbers like 1, 7, 3, 2. Since this is just a sample, it isn't representative of the full range of images this generator can make."
      ]
    },
    {
      "cell_type": "code",
      "metadata": {
        "colab": {
          "base_uri": "https://localhost:8080/",
          "height": 415
        },
        "id": "AinIfQLLLAnL",
        "outputId": "7732fd9b-aa6c-42df-fd5b-66bb3a9f2610"
      },
      "source": [
        "# -1 indicates final epoch's samples (the last in the list)\n",
        "view_samples(-1, samples)"
      ],
      "execution_count": 14,
      "outputs": [
        {
          "output_type": "display_data",
          "data": {
            "image/png": "[encoded data removed]",
            "text/plain": [
              "<Figure size 504x504 with 16 Axes>"
            ]
          },
          "metadata": {
            "needs_background": "light"
          }
        }
      ]
    },
    {
      "cell_type": "markdown",
      "metadata": {
        "id": "Co_Uf2c9LAnM"
      },
      "source": [
        "Below I'm showing the generated images as the network was training, every 10 epochs."
      ]
    },
    {
      "cell_type": "code",
      "metadata": {
        "colab": {
          "base_uri": "https://localhost:8080/",
          "height": 687
        },
        "id": "PlWSDjS1LAnM",
        "outputId": "e9c52585-3a94-411e-b102-5c6d97d52785"
      },
      "source": [
        "rows = 10 # split epochs into 10, so 100/10 = every 10 epochs\n",
        "cols = 6\n",
        "fig, axes = plt.subplots(figsize=(7,12), nrows=rows, ncols=cols, sharex=True, sharey=True)\n",
        "\n",
        "for sample, ax_row in zip(samples[::int(len(samples)/rows)], axes):\n",
        "    for img, ax in zip(sample[::int(len(sample)/cols)], ax_row):\n",
        "        img = img.detach()\n",
        "        ax.imshow(img.reshape((28,28)), cmap='Greys_r')\n",
        "        ax.xaxis.set_visible(False)\n",
        "        ax.yaxis.set_visible(False)"
      ],
      "execution_count": 15,
      "outputs": [
        {
          "output_type": "display_data",
          "data": {
            "image/png": "[encoded data removed]",
            "text/plain": [
              "<Figure size 504x864 with 60 Axes>"
            ]
          },
          "metadata": {
            "needs_background": "light"
          }
        }
      ]
    },
    {
      "cell_type": "markdown",
      "metadata": {
        "id": "-11jpmnoLAnM"
      },
      "source": [
        "It starts out as all noise. Then it learns to make only the center white and the rest black. You can start to see some number like structures appear out of the noise like 1s and 9s."
      ]
    },
    {
      "cell_type": "markdown",
      "metadata": {
        "id": "uFh9mm1QLAnN"
      },
      "source": [
        "## Sampling from the generator\n",
        "\n",
        "We can also get completely new images from the generator by using the checkpoint we saved after training. **We just need to pass in a new latent vector $z$ and we'll get new samples**!"
      ]
    },
    {
      "cell_type": "code",
      "metadata": {
        "colab": {
          "base_uri": "https://localhost:8080/",
          "height": 470
        },
        "id": "V6503_PJLAnN",
        "outputId": "b015cb94-1d13-4544-bb8e-940f35013532"
      },
      "source": [
        "# randomly generated, new latent vectors\n",
        "sample_size=16\n",
        "rand_z = np.random.uniform(-1, 1, size=(sample_size, z_size))\n",
        "rand_z = torch.from_numpy(rand_z).float()\n",
        "\n",
        "G.eval() # eval mode\n",
        "# generated samples\n",
        "rand_images = G(rand_z)\n",
        "\n",
        "# 0 indicates the first set of samples in the passed in list\n",
        "# and we only have one batch of samples, here\n",
        "view_samples(0, [rand_images])"
      ],
      "execution_count": 16,
      "outputs": [
        {
          "output_type": "stream",
          "name": "stderr",
          "text": [
            "/usr/local/lib/python3.7/dist-packages/torch/nn/functional.py:1794: UserWarning: nn.functional.tanh is deprecated. Use torch.tanh instead.\n",
            "  warnings.warn(\"nn.functional.tanh is deprecated. Use torch.tanh instead.\")\n"
          ]
        },
        {
          "output_type": "display_data",
          "data": {
            "image/png": "[encoded data removed]",
            "text/plain": [
              "<Figure size 504x504 with 16 Axes>"
            ]
          },
          "metadata": {
            "needs_background": "light"
          }
        }
      ]
    }
  ]
}